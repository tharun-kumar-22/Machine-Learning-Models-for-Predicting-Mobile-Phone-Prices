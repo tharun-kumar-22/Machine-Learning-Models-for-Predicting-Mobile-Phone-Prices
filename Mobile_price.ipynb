{
  "nbformat": 4,
  "nbformat_minor": 0,
  "metadata": {
    "colab": {
      "provenance": []
    },
    "kernelspec": {
      "name": "python3",
      "display_name": "Python 3"
    },
    "language_info": {
      "name": "python"
    }
  },
  "cells": [
    {
      "cell_type": "markdown",
      "source": [
        "### Machine Learning Models for Predicting Mobile Phone Prices\n",
        "\n",
        "This is Classification Data set in which we have to classify the price range of mobiles."
      ],
      "metadata": {
        "id": "X5fj8LOhvV6M"
      }
    },
    {
      "cell_type": "code",
      "execution_count": null,
      "metadata": {
        "id": "C-IhJSNS8teN"
      },
      "outputs": [],
      "source": [
        "# Importing the required libraries\n",
        "\n",
        "import numpy as np\n",
        "import pandas as pd\n",
        "import matplotlib.pyplot as plt\n",
        "%matplotlib inline\n",
        "import seaborn as sns\n",
        "from sklearn.linear_model import LinearRegression\n",
        "from sklearn.model_selection import train_test_split\n",
        "from sklearn.neighbors import KNeighborsRegressor\n",
        "from sklearn.ensemble import RandomForestRegressor\n",
        "from sklearn.tree import DecisionTreeRegressor\n",
        "from sklearn.metrics import mean_absolute_percentage_error\n",
        "from sklearn.metrics import mean_absolute_error\n",
        "from sklearn.metrics import mean_squared_error\n",
        "from sklearn.linear_model import LogisticRegression\n",
        "from sklearn.datasets import make_classification\n",
        "from sklearn.metrics import roc_curve, roc_auc_score\n",
        "from sklearn.metrics import classification_report\n",
        "from sklearn.feature_selection import SelectKBest\n",
        "from sklearn.feature_selection import f_classif\n",
        "from sklearn.metrics import f1_score, accuracy_score\n",
        "from sklearn.model_selection import train_test_split, GridSearchCV, StratifiedKFold\n",
        "import warnings\n",
        "warnings.filterwarnings(\"ignore\")\n",
        "from sklearn.ensemble import RandomForestClassifier\n",
        "from sklearn.model_selection import GridSearchCV\n",
        "from sklearn.naive_bayes import GaussianNB\n",
        "from sklearn.neighbors import KNeighborsClassifier\n",
        "from sklearn.tree import DecisionTreeClassifier\n",
        "from sklearn.svm import SVC\n",
        "from sklearn import model_selection\n",
        "from sklearn.pipeline import Pipeline\n",
        "from sklearn.preprocessing import StandardScaler\n",
        "from sklearn.svm import SVR\n",
        "from sklearn.model_selection import GridSearchCV\n",
        "from sklearn.metrics import mean_squared_error, mean_absolute_error, mean_absolute_percentage_error\n",
        "import numpy as np\n",
        "from sklearn.metrics import f1_score, precision_score, recall_score\n",
        "from sklearn.metrics import precision_recall_curve"
      ]
    },
    {
      "cell_type": "code",
      "source": [
        "Mobile_data = pd.read_csv(\"Mobile_DS.csv\")\n",
        "Mobile_data"
      ],
      "metadata": {
        "colab": {
          "base_uri": "https://localhost:8080/",
          "height": 443
        },
        "id": "FktwjWJQ9o9W",
        "outputId": "dea70611-786e-4f77-8821-e294895daabe"
      },
      "execution_count": null,
      "outputs": [
        {
          "output_type": "execute_result",
          "data": {
            "text/plain": [
              "      battery_power blue  clock_speed dual_sim  fc four_g  int_memory  m_dep  \\\n",
              "0               842   No          2.2       No   1     No           7    0.6   \n",
              "1              1021  Yes          0.5      Yes   0    Yes          53    0.7   \n",
              "2               563  Yes          0.5      Yes   2    Yes          41    0.9   \n",
              "3               615  Yes          2.5       No   0     No          10    0.8   \n",
              "4              1821  Yes          1.2       No  13    Yes          44    0.6   \n",
              "...             ...  ...          ...      ...  ..    ...         ...    ...   \n",
              "1995            794  Yes          0.5      Yes   0    Yes           2    0.8   \n",
              "1996           1965  Yes          2.6      Yes   0     No          39    0.2   \n",
              "1997           1911   No          0.9      Yes   1    Yes          36    0.7   \n",
              "1998           1512   No          0.9       No   4    Yes          46    0.1   \n",
              "1999            510  Yes          2.0      Yes   5    Yes          45    0.9   \n",
              "\n",
              "      mobile_wt  n_cores  ...  px_height  px_width   ram  sc_h  sc_w  \\\n",
              "0           188        2  ...         20       756  2549     9     7   \n",
              "1           136        3  ...        905      1988  2631    17     3   \n",
              "2           145        5  ...       1263      1716  2603    11     2   \n",
              "3           131        6  ...       1216      1786  2769    16     8   \n",
              "4           141        2  ...       1208      1212  1411     8     2   \n",
              "...         ...      ...  ...        ...       ...   ...   ...   ...   \n",
              "1995        106        6  ...       1222      1890   668    13     4   \n",
              "1996        187        4  ...        915      1965  2032    11    10   \n",
              "1997        108        8  ...        868      1632  3057     9     1   \n",
              "1998        145        5  ...        336       670   869    18    10   \n",
              "1999        168        6  ...        483       754  3919    19     4   \n",
              "\n",
              "      talk_time  three_g touch_screen wifi price_range  \n",
              "0            19       No           No  Yes           1  \n",
              "1             7      Yes          Yes   No           2  \n",
              "2             9      Yes          Yes   No           2  \n",
              "3            11      Yes           No   No           2  \n",
              "4            15      Yes          Yes   No           1  \n",
              "...         ...      ...          ...  ...         ...  \n",
              "1995         19      Yes          Yes   No           0  \n",
              "1996         16      Yes          Yes  Yes           2  \n",
              "1997          5      Yes          Yes   No           3  \n",
              "1998         19      Yes          Yes  Yes           0  \n",
              "1999          2      Yes          Yes  Yes           3  \n",
              "\n",
              "[2000 rows x 21 columns]"
            ],
            "text/html": [
              "\n",
              "  <div id=\"df-975fe2be-5634-4cf5-9074-3ee6184686cd\" class=\"colab-df-container\">\n",
              "    <div>\n",
              "<style scoped>\n",
              "    .dataframe tbody tr th:only-of-type {\n",
              "        vertical-align: middle;\n",
              "    }\n",
              "\n",
              "    .dataframe tbody tr th {\n",
              "        vertical-align: top;\n",
              "    }\n",
              "\n",
              "    .dataframe thead th {\n",
              "        text-align: right;\n",
              "    }\n",
              "</style>\n",
              "<table border=\"1\" class=\"dataframe\">\n",
              "  <thead>\n",
              "    <tr style=\"text-align: right;\">\n",
              "      <th></th>\n",
              "      <th>battery_power</th>\n",
              "      <th>blue</th>\n",
              "      <th>clock_speed</th>\n",
              "      <th>dual_sim</th>\n",
              "      <th>fc</th>\n",
              "      <th>four_g</th>\n",
              "      <th>int_memory</th>\n",
              "      <th>m_dep</th>\n",
              "      <th>mobile_wt</th>\n",
              "      <th>n_cores</th>\n",
              "      <th>...</th>\n",
              "      <th>px_height</th>\n",
              "      <th>px_width</th>\n",
              "      <th>ram</th>\n",
              "      <th>sc_h</th>\n",
              "      <th>sc_w</th>\n",
              "      <th>talk_time</th>\n",
              "      <th>three_g</th>\n",
              "      <th>touch_screen</th>\n",
              "      <th>wifi</th>\n",
              "      <th>price_range</th>\n",
              "    </tr>\n",
              "  </thead>\n",
              "  <tbody>\n",
              "    <tr>\n",
              "      <th>0</th>\n",
              "      <td>842</td>\n",
              "      <td>No</td>\n",
              "      <td>2.2</td>\n",
              "      <td>No</td>\n",
              "      <td>1</td>\n",
              "      <td>No</td>\n",
              "      <td>7</td>\n",
              "      <td>0.6</td>\n",
              "      <td>188</td>\n",
              "      <td>2</td>\n",
              "      <td>...</td>\n",
              "      <td>20</td>\n",
              "      <td>756</td>\n",
              "      <td>2549</td>\n",
              "      <td>9</td>\n",
              "      <td>7</td>\n",
              "      <td>19</td>\n",
              "      <td>No</td>\n",
              "      <td>No</td>\n",
              "      <td>Yes</td>\n",
              "      <td>1</td>\n",
              "    </tr>\n",
              "    <tr>\n",
              "      <th>1</th>\n",
              "      <td>1021</td>\n",
              "      <td>Yes</td>\n",
              "      <td>0.5</td>\n",
              "      <td>Yes</td>\n",
              "      <td>0</td>\n",
              "      <td>Yes</td>\n",
              "      <td>53</td>\n",
              "      <td>0.7</td>\n",
              "      <td>136</td>\n",
              "      <td>3</td>\n",
              "      <td>...</td>\n",
              "      <td>905</td>\n",
              "      <td>1988</td>\n",
              "      <td>2631</td>\n",
              "      <td>17</td>\n",
              "      <td>3</td>\n",
              "      <td>7</td>\n",
              "      <td>Yes</td>\n",
              "      <td>Yes</td>\n",
              "      <td>No</td>\n",
              "      <td>2</td>\n",
              "    </tr>\n",
              "    <tr>\n",
              "      <th>2</th>\n",
              "      <td>563</td>\n",
              "      <td>Yes</td>\n",
              "      <td>0.5</td>\n",
              "      <td>Yes</td>\n",
              "      <td>2</td>\n",
              "      <td>Yes</td>\n",
              "      <td>41</td>\n",
              "      <td>0.9</td>\n",
              "      <td>145</td>\n",
              "      <td>5</td>\n",
              "      <td>...</td>\n",
              "      <td>1263</td>\n",
              "      <td>1716</td>\n",
              "      <td>2603</td>\n",
              "      <td>11</td>\n",
              "      <td>2</td>\n",
              "      <td>9</td>\n",
              "      <td>Yes</td>\n",
              "      <td>Yes</td>\n",
              "      <td>No</td>\n",
              "      <td>2</td>\n",
              "    </tr>\n",
              "    <tr>\n",
              "      <th>3</th>\n",
              "      <td>615</td>\n",
              "      <td>Yes</td>\n",
              "      <td>2.5</td>\n",
              "      <td>No</td>\n",
              "      <td>0</td>\n",
              "      <td>No</td>\n",
              "      <td>10</td>\n",
              "      <td>0.8</td>\n",
              "      <td>131</td>\n",
              "      <td>6</td>\n",
              "      <td>...</td>\n",
              "      <td>1216</td>\n",
              "      <td>1786</td>\n",
              "      <td>2769</td>\n",
              "      <td>16</td>\n",
              "      <td>8</td>\n",
              "      <td>11</td>\n",
              "      <td>Yes</td>\n",
              "      <td>No</td>\n",
              "      <td>No</td>\n",
              "      <td>2</td>\n",
              "    </tr>\n",
              "    <tr>\n",
              "      <th>4</th>\n",
              "      <td>1821</td>\n",
              "      <td>Yes</td>\n",
              "      <td>1.2</td>\n",
              "      <td>No</td>\n",
              "      <td>13</td>\n",
              "      <td>Yes</td>\n",
              "      <td>44</td>\n",
              "      <td>0.6</td>\n",
              "      <td>141</td>\n",
              "      <td>2</td>\n",
              "      <td>...</td>\n",
              "      <td>1208</td>\n",
              "      <td>1212</td>\n",
              "      <td>1411</td>\n",
              "      <td>8</td>\n",
              "      <td>2</td>\n",
              "      <td>15</td>\n",
              "      <td>Yes</td>\n",
              "      <td>Yes</td>\n",
              "      <td>No</td>\n",
              "      <td>1</td>\n",
              "    </tr>\n",
              "    <tr>\n",
              "      <th>...</th>\n",
              "      <td>...</td>\n",
              "      <td>...</td>\n",
              "      <td>...</td>\n",
              "      <td>...</td>\n",
              "      <td>...</td>\n",
              "      <td>...</td>\n",
              "      <td>...</td>\n",
              "      <td>...</td>\n",
              "      <td>...</td>\n",
              "      <td>...</td>\n",
              "      <td>...</td>\n",
              "      <td>...</td>\n",
              "      <td>...</td>\n",
              "      <td>...</td>\n",
              "      <td>...</td>\n",
              "      <td>...</td>\n",
              "      <td>...</td>\n",
              "      <td>...</td>\n",
              "      <td>...</td>\n",
              "      <td>...</td>\n",
              "      <td>...</td>\n",
              "    </tr>\n",
              "    <tr>\n",
              "      <th>1995</th>\n",
              "      <td>794</td>\n",
              "      <td>Yes</td>\n",
              "      <td>0.5</td>\n",
              "      <td>Yes</td>\n",
              "      <td>0</td>\n",
              "      <td>Yes</td>\n",
              "      <td>2</td>\n",
              "      <td>0.8</td>\n",
              "      <td>106</td>\n",
              "      <td>6</td>\n",
              "      <td>...</td>\n",
              "      <td>1222</td>\n",
              "      <td>1890</td>\n",
              "      <td>668</td>\n",
              "      <td>13</td>\n",
              "      <td>4</td>\n",
              "      <td>19</td>\n",
              "      <td>Yes</td>\n",
              "      <td>Yes</td>\n",
              "      <td>No</td>\n",
              "      <td>0</td>\n",
              "    </tr>\n",
              "    <tr>\n",
              "      <th>1996</th>\n",
              "      <td>1965</td>\n",
              "      <td>Yes</td>\n",
              "      <td>2.6</td>\n",
              "      <td>Yes</td>\n",
              "      <td>0</td>\n",
              "      <td>No</td>\n",
              "      <td>39</td>\n",
              "      <td>0.2</td>\n",
              "      <td>187</td>\n",
              "      <td>4</td>\n",
              "      <td>...</td>\n",
              "      <td>915</td>\n",
              "      <td>1965</td>\n",
              "      <td>2032</td>\n",
              "      <td>11</td>\n",
              "      <td>10</td>\n",
              "      <td>16</td>\n",
              "      <td>Yes</td>\n",
              "      <td>Yes</td>\n",
              "      <td>Yes</td>\n",
              "      <td>2</td>\n",
              "    </tr>\n",
              "    <tr>\n",
              "      <th>1997</th>\n",
              "      <td>1911</td>\n",
              "      <td>No</td>\n",
              "      <td>0.9</td>\n",
              "      <td>Yes</td>\n",
              "      <td>1</td>\n",
              "      <td>Yes</td>\n",
              "      <td>36</td>\n",
              "      <td>0.7</td>\n",
              "      <td>108</td>\n",
              "      <td>8</td>\n",
              "      <td>...</td>\n",
              "      <td>868</td>\n",
              "      <td>1632</td>\n",
              "      <td>3057</td>\n",
              "      <td>9</td>\n",
              "      <td>1</td>\n",
              "      <td>5</td>\n",
              "      <td>Yes</td>\n",
              "      <td>Yes</td>\n",
              "      <td>No</td>\n",
              "      <td>3</td>\n",
              "    </tr>\n",
              "    <tr>\n",
              "      <th>1998</th>\n",
              "      <td>1512</td>\n",
              "      <td>No</td>\n",
              "      <td>0.9</td>\n",
              "      <td>No</td>\n",
              "      <td>4</td>\n",
              "      <td>Yes</td>\n",
              "      <td>46</td>\n",
              "      <td>0.1</td>\n",
              "      <td>145</td>\n",
              "      <td>5</td>\n",
              "      <td>...</td>\n",
              "      <td>336</td>\n",
              "      <td>670</td>\n",
              "      <td>869</td>\n",
              "      <td>18</td>\n",
              "      <td>10</td>\n",
              "      <td>19</td>\n",
              "      <td>Yes</td>\n",
              "      <td>Yes</td>\n",
              "      <td>Yes</td>\n",
              "      <td>0</td>\n",
              "    </tr>\n",
              "    <tr>\n",
              "      <th>1999</th>\n",
              "      <td>510</td>\n",
              "      <td>Yes</td>\n",
              "      <td>2.0</td>\n",
              "      <td>Yes</td>\n",
              "      <td>5</td>\n",
              "      <td>Yes</td>\n",
              "      <td>45</td>\n",
              "      <td>0.9</td>\n",
              "      <td>168</td>\n",
              "      <td>6</td>\n",
              "      <td>...</td>\n",
              "      <td>483</td>\n",
              "      <td>754</td>\n",
              "      <td>3919</td>\n",
              "      <td>19</td>\n",
              "      <td>4</td>\n",
              "      <td>2</td>\n",
              "      <td>Yes</td>\n",
              "      <td>Yes</td>\n",
              "      <td>Yes</td>\n",
              "      <td>3</td>\n",
              "    </tr>\n",
              "  </tbody>\n",
              "</table>\n",
              "<p>2000 rows × 21 columns</p>\n",
              "</div>\n",
              "    <div class=\"colab-df-buttons\">\n",
              "\n",
              "  <div class=\"colab-df-container\">\n",
              "    <button class=\"colab-df-convert\" onclick=\"convertToInteractive('df-975fe2be-5634-4cf5-9074-3ee6184686cd')\"\n",
              "            title=\"Convert this dataframe to an interactive table.\"\n",
              "            style=\"display:none;\">\n",
              "\n",
              "  <svg xmlns=\"http://www.w3.org/2000/svg\" height=\"24px\" viewBox=\"0 -960 960 960\">\n",
              "    <path d=\"M120-120v-720h720v720H120Zm60-500h600v-160H180v160Zm220 220h160v-160H400v160Zm0 220h160v-160H400v160ZM180-400h160v-160H180v160Zm440 0h160v-160H620v160ZM180-180h160v-160H180v160Zm440 0h160v-160H620v160Z\"/>\n",
              "  </svg>\n",
              "    </button>\n",
              "\n",
              "  <style>\n",
              "    .colab-df-container {\n",
              "      display:flex;\n",
              "      gap: 12px;\n",
              "    }\n",
              "\n",
              "    .colab-df-convert {\n",
              "      background-color: #E8F0FE;\n",
              "      border: none;\n",
              "      border-radius: 50%;\n",
              "      cursor: pointer;\n",
              "      display: none;\n",
              "      fill: #1967D2;\n",
              "      height: 32px;\n",
              "      padding: 0 0 0 0;\n",
              "      width: 32px;\n",
              "    }\n",
              "\n",
              "    .colab-df-convert:hover {\n",
              "      background-color: #E2EBFA;\n",
              "      box-shadow: 0px 1px 2px rgba(60, 64, 67, 0.3), 0px 1px 3px 1px rgba(60, 64, 67, 0.15);\n",
              "      fill: #174EA6;\n",
              "    }\n",
              "\n",
              "    .colab-df-buttons div {\n",
              "      margin-bottom: 4px;\n",
              "    }\n",
              "\n",
              "    [theme=dark] .colab-df-convert {\n",
              "      background-color: #3B4455;\n",
              "      fill: #D2E3FC;\n",
              "    }\n",
              "\n",
              "    [theme=dark] .colab-df-convert:hover {\n",
              "      background-color: #434B5C;\n",
              "      box-shadow: 0px 1px 3px 1px rgba(0, 0, 0, 0.15);\n",
              "      filter: drop-shadow(0px 1px 2px rgba(0, 0, 0, 0.3));\n",
              "      fill: #FFFFFF;\n",
              "    }\n",
              "  </style>\n",
              "\n",
              "    <script>\n",
              "      const buttonEl =\n",
              "        document.querySelector('#df-975fe2be-5634-4cf5-9074-3ee6184686cd button.colab-df-convert');\n",
              "      buttonEl.style.display =\n",
              "        google.colab.kernel.accessAllowed ? 'block' : 'none';\n",
              "\n",
              "      async function convertToInteractive(key) {\n",
              "        const element = document.querySelector('#df-975fe2be-5634-4cf5-9074-3ee6184686cd');\n",
              "        const dataTable =\n",
              "          await google.colab.kernel.invokeFunction('convertToInteractive',\n",
              "                                                    [key], {});\n",
              "        if (!dataTable) return;\n",
              "\n",
              "        const docLinkHtml = 'Like what you see? Visit the ' +\n",
              "          '<a target=\"_blank\" href=https://colab.research.google.com/notebooks/data_table.ipynb>data table notebook</a>'\n",
              "          + ' to learn more about interactive tables.';\n",
              "        element.innerHTML = '';\n",
              "        dataTable['output_type'] = 'display_data';\n",
              "        await google.colab.output.renderOutput(dataTable, element);\n",
              "        const docLink = document.createElement('div');\n",
              "        docLink.innerHTML = docLinkHtml;\n",
              "        element.appendChild(docLink);\n",
              "      }\n",
              "    </script>\n",
              "  </div>\n",
              "\n",
              "\n",
              "<div id=\"df-d68f6f94-a098-487e-8386-934686907ed6\">\n",
              "  <button class=\"colab-df-quickchart\" onclick=\"quickchart('df-d68f6f94-a098-487e-8386-934686907ed6')\"\n",
              "            title=\"Suggest charts\"\n",
              "            style=\"display:none;\">\n",
              "\n",
              "<svg xmlns=\"http://www.w3.org/2000/svg\" height=\"24px\"viewBox=\"0 0 24 24\"\n",
              "     width=\"24px\">\n",
              "    <g>\n",
              "        <path d=\"M19 3H5c-1.1 0-2 .9-2 2v14c0 1.1.9 2 2 2h14c1.1 0 2-.9 2-2V5c0-1.1-.9-2-2-2zM9 17H7v-7h2v7zm4 0h-2V7h2v10zm4 0h-2v-4h2v4z\"/>\n",
              "    </g>\n",
              "</svg>\n",
              "  </button>\n",
              "\n",
              "<style>\n",
              "  .colab-df-quickchart {\n",
              "      --bg-color: #E8F0FE;\n",
              "      --fill-color: #1967D2;\n",
              "      --hover-bg-color: #E2EBFA;\n",
              "      --hover-fill-color: #174EA6;\n",
              "      --disabled-fill-color: #AAA;\n",
              "      --disabled-bg-color: #DDD;\n",
              "  }\n",
              "\n",
              "  [theme=dark] .colab-df-quickchart {\n",
              "      --bg-color: #3B4455;\n",
              "      --fill-color: #D2E3FC;\n",
              "      --hover-bg-color: #434B5C;\n",
              "      --hover-fill-color: #FFFFFF;\n",
              "      --disabled-bg-color: #3B4455;\n",
              "      --disabled-fill-color: #666;\n",
              "  }\n",
              "\n",
              "  .colab-df-quickchart {\n",
              "    background-color: var(--bg-color);\n",
              "    border: none;\n",
              "    border-radius: 50%;\n",
              "    cursor: pointer;\n",
              "    display: none;\n",
              "    fill: var(--fill-color);\n",
              "    height: 32px;\n",
              "    padding: 0;\n",
              "    width: 32px;\n",
              "  }\n",
              "\n",
              "  .colab-df-quickchart:hover {\n",
              "    background-color: var(--hover-bg-color);\n",
              "    box-shadow: 0 1px 2px rgba(60, 64, 67, 0.3), 0 1px 3px 1px rgba(60, 64, 67, 0.15);\n",
              "    fill: var(--button-hover-fill-color);\n",
              "  }\n",
              "\n",
              "  .colab-df-quickchart-complete:disabled,\n",
              "  .colab-df-quickchart-complete:disabled:hover {\n",
              "    background-color: var(--disabled-bg-color);\n",
              "    fill: var(--disabled-fill-color);\n",
              "    box-shadow: none;\n",
              "  }\n",
              "\n",
              "  .colab-df-spinner {\n",
              "    border: 2px solid var(--fill-color);\n",
              "    border-color: transparent;\n",
              "    border-bottom-color: var(--fill-color);\n",
              "    animation:\n",
              "      spin 1s steps(1) infinite;\n",
              "  }\n",
              "\n",
              "  @keyframes spin {\n",
              "    0% {\n",
              "      border-color: transparent;\n",
              "      border-bottom-color: var(--fill-color);\n",
              "      border-left-color: var(--fill-color);\n",
              "    }\n",
              "    20% {\n",
              "      border-color: transparent;\n",
              "      border-left-color: var(--fill-color);\n",
              "      border-top-color: var(--fill-color);\n",
              "    }\n",
              "    30% {\n",
              "      border-color: transparent;\n",
              "      border-left-color: var(--fill-color);\n",
              "      border-top-color: var(--fill-color);\n",
              "      border-right-color: var(--fill-color);\n",
              "    }\n",
              "    40% {\n",
              "      border-color: transparent;\n",
              "      border-right-color: var(--fill-color);\n",
              "      border-top-color: var(--fill-color);\n",
              "    }\n",
              "    60% {\n",
              "      border-color: transparent;\n",
              "      border-right-color: var(--fill-color);\n",
              "    }\n",
              "    80% {\n",
              "      border-color: transparent;\n",
              "      border-right-color: var(--fill-color);\n",
              "      border-bottom-color: var(--fill-color);\n",
              "    }\n",
              "    90% {\n",
              "      border-color: transparent;\n",
              "      border-bottom-color: var(--fill-color);\n",
              "    }\n",
              "  }\n",
              "</style>\n",
              "\n",
              "  <script>\n",
              "    async function quickchart(key) {\n",
              "      const quickchartButtonEl =\n",
              "        document.querySelector('#' + key + ' button');\n",
              "      quickchartButtonEl.disabled = true;  // To prevent multiple clicks.\n",
              "      quickchartButtonEl.classList.add('colab-df-spinner');\n",
              "      try {\n",
              "        const charts = await google.colab.kernel.invokeFunction(\n",
              "            'suggestCharts', [key], {});\n",
              "      } catch (error) {\n",
              "        console.error('Error during call to suggestCharts:', error);\n",
              "      }\n",
              "      quickchartButtonEl.classList.remove('colab-df-spinner');\n",
              "      quickchartButtonEl.classList.add('colab-df-quickchart-complete');\n",
              "    }\n",
              "    (() => {\n",
              "      let quickchartButtonEl =\n",
              "        document.querySelector('#df-d68f6f94-a098-487e-8386-934686907ed6 button');\n",
              "      quickchartButtonEl.style.display =\n",
              "        google.colab.kernel.accessAllowed ? 'block' : 'none';\n",
              "    })();\n",
              "  </script>\n",
              "</div>\n",
              "    </div>\n",
              "  </div>\n"
            ],
            "application/vnd.google.colaboratory.intrinsic+json": {
              "type": "dataframe",
              "variable_name": "Mobile_data"
            }
          },
          "metadata": {},
          "execution_count": 6
        }
      ]
    },
    {
      "cell_type": "markdown",
      "source": [
        "Features Explanation:\n",
        "\n",
        "battery_power: Total energy a battery can store in one time measured in mAh.\n",
        "\n",
        "blue: Has bluetooth or not.\n",
        "\n",
        "clock_speed: speed at which microprocessor executes instructions.\n",
        "\n",
        "dual_sim: Has dual sim suppfour_gort or not.\n",
        "\n",
        "fc: Front Camera mega pixels.\n",
        "\n",
        "four_g: Has 4G or not.\n",
        "\n",
        "int_memory: Internal Memory in Gigabytes.\n",
        "\n",
        "m_dep: Mobile Depth in cm.\n",
        "\n",
        "mobile_wt: Weight of mobile phone.\n",
        "\n",
        "n_cores: Number of cores of processor.\n",
        "\n",
        "pc: Primary Camera mega pixels.\n",
        "\n",
        "px_height: Pixel Resolution Height.\n",
        "\n",
        "px_width: Pixel Resolution Width.\n",
        "\n",
        "ram: Random Access Memory in Gigabytes.\n",
        "\n",
        "sc_h: Screen Height of mobile in cm.\n",
        "\n",
        "sc_w: Screen Width of mobile in cm.\n",
        "\n",
        "talk_time: longest time that a single battery charge will last when you are.\n",
        "\n",
        "three_g: Has 3G or not.\n",
        "\n",
        "touch_screen: Has touch screen or not.\n",
        "\n",
        "wifi: Has wifi or not.\n",
        "\n",
        "price_range: This is the target variable with value of 0(low cost), 1(medium cost), 2(high cost) and 3(very high cost)."
      ],
      "metadata": {
        "id": "8TUDDAOp95kP"
      }
    },
    {
      "cell_type": "markdown",
      "source": [
        "# Regression\n"
      ],
      "metadata": {
        "id": "4Bn9dsFjUmiO"
      }
    },
    {
      "cell_type": "markdown",
      "source": [
        "###Linear Regression"
      ],
      "metadata": {
        "id": "LMAQTID9wsHw"
      }
    },
    {
      "cell_type": "markdown",
      "source": [
        "I took clock speed and ram as features for linear regression model."
      ],
      "metadata": {
        "id": "KaKSC3avz3Ok"
      }
    },
    {
      "cell_type": "code",
      "source": [
        "df_Lin_reg = Mobile_data[['clock_speed','ram']]\n",
        "# checking null values\n",
        "print(df_Lin_reg.isna().sum())\n",
        "df_Lin_reg.tail()"
      ],
      "metadata": {
        "colab": {
          "base_uri": "https://localhost:8080/",
          "height": 258
        },
        "id": "7iZg6Ga59rrZ",
        "outputId": "197eb6d2-e7bb-4bf7-e909-43b639a0dd5e"
      },
      "execution_count": null,
      "outputs": [
        {
          "output_type": "stream",
          "name": "stdout",
          "text": [
            "clock_speed    0\n",
            "ram            0\n",
            "dtype: int64\n"
          ]
        },
        {
          "output_type": "execute_result",
          "data": {
            "text/plain": [
              "      clock_speed   ram\n",
              "1995          0.5   668\n",
              "1996          2.6  2032\n",
              "1997          0.9  3057\n",
              "1998          0.9   869\n",
              "1999          2.0  3919"
            ],
            "text/html": [
              "\n",
              "  <div id=\"df-b8ce8bd4-29a0-4b3c-919a-9400e1220d1a\" class=\"colab-df-container\">\n",
              "    <div>\n",
              "<style scoped>\n",
              "    .dataframe tbody tr th:only-of-type {\n",
              "        vertical-align: middle;\n",
              "    }\n",
              "\n",
              "    .dataframe tbody tr th {\n",
              "        vertical-align: top;\n",
              "    }\n",
              "\n",
              "    .dataframe thead th {\n",
              "        text-align: right;\n",
              "    }\n",
              "</style>\n",
              "<table border=\"1\" class=\"dataframe\">\n",
              "  <thead>\n",
              "    <tr style=\"text-align: right;\">\n",
              "      <th></th>\n",
              "      <th>clock_speed</th>\n",
              "      <th>ram</th>\n",
              "    </tr>\n",
              "  </thead>\n",
              "  <tbody>\n",
              "    <tr>\n",
              "      <th>1995</th>\n",
              "      <td>0.5</td>\n",
              "      <td>668</td>\n",
              "    </tr>\n",
              "    <tr>\n",
              "      <th>1996</th>\n",
              "      <td>2.6</td>\n",
              "      <td>2032</td>\n",
              "    </tr>\n",
              "    <tr>\n",
              "      <th>1997</th>\n",
              "      <td>0.9</td>\n",
              "      <td>3057</td>\n",
              "    </tr>\n",
              "    <tr>\n",
              "      <th>1998</th>\n",
              "      <td>0.9</td>\n",
              "      <td>869</td>\n",
              "    </tr>\n",
              "    <tr>\n",
              "      <th>1999</th>\n",
              "      <td>2.0</td>\n",
              "      <td>3919</td>\n",
              "    </tr>\n",
              "  </tbody>\n",
              "</table>\n",
              "</div>\n",
              "    <div class=\"colab-df-buttons\">\n",
              "\n",
              "  <div class=\"colab-df-container\">\n",
              "    <button class=\"colab-df-convert\" onclick=\"convertToInteractive('df-b8ce8bd4-29a0-4b3c-919a-9400e1220d1a')\"\n",
              "            title=\"Convert this dataframe to an interactive table.\"\n",
              "            style=\"display:none;\">\n",
              "\n",
              "  <svg xmlns=\"http://www.w3.org/2000/svg\" height=\"24px\" viewBox=\"0 -960 960 960\">\n",
              "    <path d=\"M120-120v-720h720v720H120Zm60-500h600v-160H180v160Zm220 220h160v-160H400v160Zm0 220h160v-160H400v160ZM180-400h160v-160H180v160Zm440 0h160v-160H620v160ZM180-180h160v-160H180v160Zm440 0h160v-160H620v160Z\"/>\n",
              "  </svg>\n",
              "    </button>\n",
              "\n",
              "  <style>\n",
              "    .colab-df-container {\n",
              "      display:flex;\n",
              "      gap: 12px;\n",
              "    }\n",
              "\n",
              "    .colab-df-convert {\n",
              "      background-color: #E8F0FE;\n",
              "      border: none;\n",
              "      border-radius: 50%;\n",
              "      cursor: pointer;\n",
              "      display: none;\n",
              "      fill: #1967D2;\n",
              "      height: 32px;\n",
              "      padding: 0 0 0 0;\n",
              "      width: 32px;\n",
              "    }\n",
              "\n",
              "    .colab-df-convert:hover {\n",
              "      background-color: #E2EBFA;\n",
              "      box-shadow: 0px 1px 2px rgba(60, 64, 67, 0.3), 0px 1px 3px 1px rgba(60, 64, 67, 0.15);\n",
              "      fill: #174EA6;\n",
              "    }\n",
              "\n",
              "    .colab-df-buttons div {\n",
              "      margin-bottom: 4px;\n",
              "    }\n",
              "\n",
              "    [theme=dark] .colab-df-convert {\n",
              "      background-color: #3B4455;\n",
              "      fill: #D2E3FC;\n",
              "    }\n",
              "\n",
              "    [theme=dark] .colab-df-convert:hover {\n",
              "      background-color: #434B5C;\n",
              "      box-shadow: 0px 1px 3px 1px rgba(0, 0, 0, 0.15);\n",
              "      filter: drop-shadow(0px 1px 2px rgba(0, 0, 0, 0.3));\n",
              "      fill: #FFFFFF;\n",
              "    }\n",
              "  </style>\n",
              "\n",
              "    <script>\n",
              "      const buttonEl =\n",
              "        document.querySelector('#df-b8ce8bd4-29a0-4b3c-919a-9400e1220d1a button.colab-df-convert');\n",
              "      buttonEl.style.display =\n",
              "        google.colab.kernel.accessAllowed ? 'block' : 'none';\n",
              "\n",
              "      async function convertToInteractive(key) {\n",
              "        const element = document.querySelector('#df-b8ce8bd4-29a0-4b3c-919a-9400e1220d1a');\n",
              "        const dataTable =\n",
              "          await google.colab.kernel.invokeFunction('convertToInteractive',\n",
              "                                                    [key], {});\n",
              "        if (!dataTable) return;\n",
              "\n",
              "        const docLinkHtml = 'Like what you see? Visit the ' +\n",
              "          '<a target=\"_blank\" href=https://colab.research.google.com/notebooks/data_table.ipynb>data table notebook</a>'\n",
              "          + ' to learn more about interactive tables.';\n",
              "        element.innerHTML = '';\n",
              "        dataTable['output_type'] = 'display_data';\n",
              "        await google.colab.output.renderOutput(dataTable, element);\n",
              "        const docLink = document.createElement('div');\n",
              "        docLink.innerHTML = docLinkHtml;\n",
              "        element.appendChild(docLink);\n",
              "      }\n",
              "    </script>\n",
              "  </div>\n",
              "\n",
              "\n",
              "<div id=\"df-a202fa28-ab89-4895-a709-36bfd4aaf2ff\">\n",
              "  <button class=\"colab-df-quickchart\" onclick=\"quickchart('df-a202fa28-ab89-4895-a709-36bfd4aaf2ff')\"\n",
              "            title=\"Suggest charts\"\n",
              "            style=\"display:none;\">\n",
              "\n",
              "<svg xmlns=\"http://www.w3.org/2000/svg\" height=\"24px\"viewBox=\"0 0 24 24\"\n",
              "     width=\"24px\">\n",
              "    <g>\n",
              "        <path d=\"M19 3H5c-1.1 0-2 .9-2 2v14c0 1.1.9 2 2 2h14c1.1 0 2-.9 2-2V5c0-1.1-.9-2-2-2zM9 17H7v-7h2v7zm4 0h-2V7h2v10zm4 0h-2v-4h2v4z\"/>\n",
              "    </g>\n",
              "</svg>\n",
              "  </button>\n",
              "\n",
              "<style>\n",
              "  .colab-df-quickchart {\n",
              "      --bg-color: #E8F0FE;\n",
              "      --fill-color: #1967D2;\n",
              "      --hover-bg-color: #E2EBFA;\n",
              "      --hover-fill-color: #174EA6;\n",
              "      --disabled-fill-color: #AAA;\n",
              "      --disabled-bg-color: #DDD;\n",
              "  }\n",
              "\n",
              "  [theme=dark] .colab-df-quickchart {\n",
              "      --bg-color: #3B4455;\n",
              "      --fill-color: #D2E3FC;\n",
              "      --hover-bg-color: #434B5C;\n",
              "      --hover-fill-color: #FFFFFF;\n",
              "      --disabled-bg-color: #3B4455;\n",
              "      --disabled-fill-color: #666;\n",
              "  }\n",
              "\n",
              "  .colab-df-quickchart {\n",
              "    background-color: var(--bg-color);\n",
              "    border: none;\n",
              "    border-radius: 50%;\n",
              "    cursor: pointer;\n",
              "    display: none;\n",
              "    fill: var(--fill-color);\n",
              "    height: 32px;\n",
              "    padding: 0;\n",
              "    width: 32px;\n",
              "  }\n",
              "\n",
              "  .colab-df-quickchart:hover {\n",
              "    background-color: var(--hover-bg-color);\n",
              "    box-shadow: 0 1px 2px rgba(60, 64, 67, 0.3), 0 1px 3px 1px rgba(60, 64, 67, 0.15);\n",
              "    fill: var(--button-hover-fill-color);\n",
              "  }\n",
              "\n",
              "  .colab-df-quickchart-complete:disabled,\n",
              "  .colab-df-quickchart-complete:disabled:hover {\n",
              "    background-color: var(--disabled-bg-color);\n",
              "    fill: var(--disabled-fill-color);\n",
              "    box-shadow: none;\n",
              "  }\n",
              "\n",
              "  .colab-df-spinner {\n",
              "    border: 2px solid var(--fill-color);\n",
              "    border-color: transparent;\n",
              "    border-bottom-color: var(--fill-color);\n",
              "    animation:\n",
              "      spin 1s steps(1) infinite;\n",
              "  }\n",
              "\n",
              "  @keyframes spin {\n",
              "    0% {\n",
              "      border-color: transparent;\n",
              "      border-bottom-color: var(--fill-color);\n",
              "      border-left-color: var(--fill-color);\n",
              "    }\n",
              "    20% {\n",
              "      border-color: transparent;\n",
              "      border-left-color: var(--fill-color);\n",
              "      border-top-color: var(--fill-color);\n",
              "    }\n",
              "    30% {\n",
              "      border-color: transparent;\n",
              "      border-left-color: var(--fill-color);\n",
              "      border-top-color: var(--fill-color);\n",
              "      border-right-color: var(--fill-color);\n",
              "    }\n",
              "    40% {\n",
              "      border-color: transparent;\n",
              "      border-right-color: var(--fill-color);\n",
              "      border-top-color: var(--fill-color);\n",
              "    }\n",
              "    60% {\n",
              "      border-color: transparent;\n",
              "      border-right-color: var(--fill-color);\n",
              "    }\n",
              "    80% {\n",
              "      border-color: transparent;\n",
              "      border-right-color: var(--fill-color);\n",
              "      border-bottom-color: var(--fill-color);\n",
              "    }\n",
              "    90% {\n",
              "      border-color: transparent;\n",
              "      border-bottom-color: var(--fill-color);\n",
              "    }\n",
              "  }\n",
              "</style>\n",
              "\n",
              "  <script>\n",
              "    async function quickchart(key) {\n",
              "      const quickchartButtonEl =\n",
              "        document.querySelector('#' + key + ' button');\n",
              "      quickchartButtonEl.disabled = true;  // To prevent multiple clicks.\n",
              "      quickchartButtonEl.classList.add('colab-df-spinner');\n",
              "      try {\n",
              "        const charts = await google.colab.kernel.invokeFunction(\n",
              "            'suggestCharts', [key], {});\n",
              "      } catch (error) {\n",
              "        console.error('Error during call to suggestCharts:', error);\n",
              "      }\n",
              "      quickchartButtonEl.classList.remove('colab-df-spinner');\n",
              "      quickchartButtonEl.classList.add('colab-df-quickchart-complete');\n",
              "    }\n",
              "    (() => {\n",
              "      let quickchartButtonEl =\n",
              "        document.querySelector('#df-a202fa28-ab89-4895-a709-36bfd4aaf2ff button');\n",
              "      quickchartButtonEl.style.display =\n",
              "        google.colab.kernel.accessAllowed ? 'block' : 'none';\n",
              "    })();\n",
              "  </script>\n",
              "</div>\n",
              "    </div>\n",
              "  </div>\n"
            ],
            "application/vnd.google.colaboratory.intrinsic+json": {
              "type": "dataframe",
              "summary": "{\n  \"name\": \"df_Lin_reg\",\n  \"rows\": 5,\n  \"fields\": [\n    {\n      \"column\": \"clock_speed\",\n      \"properties\": {\n        \"dtype\": \"number\",\n        \"std\": 0.8814760348415606,\n        \"min\": 0.5,\n        \"max\": 2.6,\n        \"num_unique_values\": 4,\n        \"samples\": [\n          2.6,\n          2.0,\n          0.5\n        ],\n        \"semantic_type\": \"\",\n        \"description\": \"\"\n      }\n    },\n    {\n      \"column\": \"ram\",\n      \"properties\": {\n        \"dtype\": \"number\",\n        \"std\": 1395,\n        \"min\": 668,\n        \"max\": 3919,\n        \"num_unique_values\": 5,\n        \"samples\": [\n          2032,\n          3919,\n          3057\n        ],\n        \"semantic_type\": \"\",\n        \"description\": \"\"\n      }\n    }\n  ]\n}"
            }
          },
          "metadata": {},
          "execution_count": 7
        }
      ]
    },
    {
      "cell_type": "code",
      "source": [
        "X = df_Lin_reg.iloc[:, :-1].values\n",
        "y = df_Lin_reg.iloc[:,1].values"
      ],
      "metadata": {
        "id": "2nD9c6w_FNdc"
      },
      "execution_count": null,
      "outputs": []
    },
    {
      "cell_type": "code",
      "source": [
        "# Split data into training and testing\n",
        "X_train, X_test, y_train, y_test = train_test_split(X, y,test_size=0.2, random_state=100)"
      ],
      "metadata": {
        "id": "0YPvXn8wFgY4"
      },
      "execution_count": null,
      "outputs": []
    },
    {
      "cell_type": "code",
      "source": [
        "print(\"Shape of X_train:\", X_train.shape)\n",
        "print(\"Shape of y_train:\", y_train.shape)\n",
        "print(\"Shape of X_test:\", X_test.shape)\n",
        "print(\"Shape of y_test:\", y_test.shape)"
      ],
      "metadata": {
        "colab": {
          "base_uri": "https://localhost:8080/"
        },
        "id": "cwbGj0fEtOUt",
        "outputId": "c88458de-30b9-4ccc-e8fd-178b0b4d5e8a"
      },
      "execution_count": null,
      "outputs": [
        {
          "output_type": "stream",
          "name": "stdout",
          "text": [
            "Shape of X_train: (1600, 1)\n",
            "Shape of y_train: (1600,)\n",
            "Shape of X_test: (400, 1)\n",
            "Shape of y_test: (400,)\n"
          ]
        }
      ]
    },
    {
      "cell_type": "code",
      "source": [
        "# Fit Simple Linear Regression to Training Data\n",
        "\n",
        "model = LinearRegression(fit_intercept= True)\n",
        "model.fit(X_train, y_train)"
      ],
      "metadata": {
        "colab": {
          "base_uri": "https://localhost:8080/",
          "height": 74
        },
        "id": "EtFCtp0DFnVd",
        "outputId": "1c2bf4ba-36fe-4664-e4aa-fcede057dcf4"
      },
      "execution_count": null,
      "outputs": [
        {
          "output_type": "execute_result",
          "data": {
            "text/plain": [
              "LinearRegression()"
            ],
            "text/html": [
              "<style>#sk-container-id-1 {color: black;background-color: white;}#sk-container-id-1 pre{padding: 0;}#sk-container-id-1 div.sk-toggleable {background-color: white;}#sk-container-id-1 label.sk-toggleable__label {cursor: pointer;display: block;width: 100%;margin-bottom: 0;padding: 0.3em;box-sizing: border-box;text-align: center;}#sk-container-id-1 label.sk-toggleable__label-arrow:before {content: \"▸\";float: left;margin-right: 0.25em;color: #696969;}#sk-container-id-1 label.sk-toggleable__label-arrow:hover:before {color: black;}#sk-container-id-1 div.sk-estimator:hover label.sk-toggleable__label-arrow:before {color: black;}#sk-container-id-1 div.sk-toggleable__content {max-height: 0;max-width: 0;overflow: hidden;text-align: left;background-color: #f0f8ff;}#sk-container-id-1 div.sk-toggleable__content pre {margin: 0.2em;color: black;border-radius: 0.25em;background-color: #f0f8ff;}#sk-container-id-1 input.sk-toggleable__control:checked~div.sk-toggleable__content {max-height: 200px;max-width: 100%;overflow: auto;}#sk-container-id-1 input.sk-toggleable__control:checked~label.sk-toggleable__label-arrow:before {content: \"▾\";}#sk-container-id-1 div.sk-estimator input.sk-toggleable__control:checked~label.sk-toggleable__label {background-color: #d4ebff;}#sk-container-id-1 div.sk-label input.sk-toggleable__control:checked~label.sk-toggleable__label {background-color: #d4ebff;}#sk-container-id-1 input.sk-hidden--visually {border: 0;clip: rect(1px 1px 1px 1px);clip: rect(1px, 1px, 1px, 1px);height: 1px;margin: -1px;overflow: hidden;padding: 0;position: absolute;width: 1px;}#sk-container-id-1 div.sk-estimator {font-family: monospace;background-color: #f0f8ff;border: 1px dotted black;border-radius: 0.25em;box-sizing: border-box;margin-bottom: 0.5em;}#sk-container-id-1 div.sk-estimator:hover {background-color: #d4ebff;}#sk-container-id-1 div.sk-parallel-item::after {content: \"\";width: 100%;border-bottom: 1px solid gray;flex-grow: 1;}#sk-container-id-1 div.sk-label:hover label.sk-toggleable__label {background-color: #d4ebff;}#sk-container-id-1 div.sk-serial::before {content: \"\";position: absolute;border-left: 1px solid gray;box-sizing: border-box;top: 0;bottom: 0;left: 50%;z-index: 0;}#sk-container-id-1 div.sk-serial {display: flex;flex-direction: column;align-items: center;background-color: white;padding-right: 0.2em;padding-left: 0.2em;position: relative;}#sk-container-id-1 div.sk-item {position: relative;z-index: 1;}#sk-container-id-1 div.sk-parallel {display: flex;align-items: stretch;justify-content: center;background-color: white;position: relative;}#sk-container-id-1 div.sk-item::before, #sk-container-id-1 div.sk-parallel-item::before {content: \"\";position: absolute;border-left: 1px solid gray;box-sizing: border-box;top: 0;bottom: 0;left: 50%;z-index: -1;}#sk-container-id-1 div.sk-parallel-item {display: flex;flex-direction: column;z-index: 1;position: relative;background-color: white;}#sk-container-id-1 div.sk-parallel-item:first-child::after {align-self: flex-end;width: 50%;}#sk-container-id-1 div.sk-parallel-item:last-child::after {align-self: flex-start;width: 50%;}#sk-container-id-1 div.sk-parallel-item:only-child::after {width: 0;}#sk-container-id-1 div.sk-dashed-wrapped {border: 1px dashed gray;margin: 0 0.4em 0.5em 0.4em;box-sizing: border-box;padding-bottom: 0.4em;background-color: white;}#sk-container-id-1 div.sk-label label {font-family: monospace;font-weight: bold;display: inline-block;line-height: 1.2em;}#sk-container-id-1 div.sk-label-container {text-align: center;}#sk-container-id-1 div.sk-container {/* jupyter's `normalize.less` sets `[hidden] { display: none; }` but bootstrap.min.css set `[hidden] { display: none !important; }` so we also need the `!important` here to be able to override the default hidden behavior on the sphinx rendered scikit-learn.org. See: https://github.com/scikit-learn/scikit-learn/issues/21755 */display: inline-block !important;position: relative;}#sk-container-id-1 div.sk-text-repr-fallback {display: none;}</style><div id=\"sk-container-id-1\" class=\"sk-top-container\"><div class=\"sk-text-repr-fallback\"><pre>LinearRegression()</pre><b>In a Jupyter environment, please rerun this cell to show the HTML representation or trust the notebook. <br />On GitHub, the HTML representation is unable to render, please try loading this page with nbviewer.org.</b></div><div class=\"sk-container\" hidden><div class=\"sk-item\"><div class=\"sk-estimator sk-toggleable\"><input class=\"sk-toggleable__control sk-hidden--visually\" id=\"sk-estimator-id-1\" type=\"checkbox\" checked><label for=\"sk-estimator-id-1\" class=\"sk-toggleable__label sk-toggleable__label-arrow\">LinearRegression</label><div class=\"sk-toggleable__content\"><pre>LinearRegression()</pre></div></div></div></div></div>"
            ]
          },
          "metadata": {},
          "execution_count": 7
        }
      ]
    },
    {
      "cell_type": "code",
      "source": [
        "# Fetching intercept (b0) and coefficient (b1)\n",
        "print(\"Intercept:\", model.intercept_)\n",
        "print(\"Coefficients:\",model.coef_)"
      ],
      "metadata": {
        "colab": {
          "base_uri": "https://localhost:8080/"
        },
        "id": "fm0gdTdUF3Qv",
        "outputId": "ece94205-2b8d-4363-f639-725635b186d1"
      },
      "execution_count": null,
      "outputs": [
        {
          "output_type": "stream",
          "name": "stdout",
          "text": [
            "Intercept: 2.1436564217130916\n",
            "Coefficients: [-0.01890025]\n"
          ]
        }
      ]
    },
    {
      "cell_type": "code",
      "source": [
        "# Make Prediction for testing data\n",
        "y_pred = model.predict(X_test)"
      ],
      "metadata": {
        "id": "M574og4rF9eb"
      },
      "execution_count": null,
      "outputs": []
    },
    {
      "cell_type": "code",
      "source": [
        "residuals = y_test - y_pred\n",
        "\n",
        "# Plot the distribution of residuals\n",
        "plt.hist(residuals, bins=10, edgecolor='black')\n",
        "plt.xlabel('Residuals')\n",
        "plt.ylabel('Frequency')\n",
        "plt.title('Distribution of Residuals')\n",
        "plt.show()"
      ],
      "metadata": {
        "colab": {
          "base_uri": "https://localhost:8080/",
          "height": 472
        },
        "id": "tDVDbOeV1dAm",
        "outputId": "6a774f46-4c26-4c5d-aed8-ee11fa993365"
      },
      "execution_count": null,
      "outputs": [
        {
          "output_type": "display_data",
          "data": {
            "text/plain": [
              "<Figure size 640x480 with 1 Axes>"
            ],
            "image/png": "[encoded data removed]"
          },
          "metadata": {}
        }
      ]
    },
    {
      "cell_type": "markdown",
      "source": [
        "The distrubution is not looking like normal."
      ],
      "metadata": {
        "id": "B1G8NuXR2DmA"
      }
    },
    {
      "cell_type": "code",
      "source": [
        "#residual plots for prediction-residual means difference between y_test and y_pred\n",
        "plt.scatter(X_test,y_test)\n",
        "plt.plot(X_test,y_pred,color=\"r\",label=\"y_pred\")\n",
        "plt.xlabel(\"X test\")\n",
        "plt.ylabel(\"Y test\")\n",
        "plt.legend(loc=\"upper right\")\n",
        "plt.title(\"Residuals Plot\")\n",
        "plt.show()"
      ],
      "metadata": {
        "colab": {
          "base_uri": "https://localhost:8080/",
          "height": 472
        },
        "id": "Pfvjt6vlfw26",
        "outputId": "6486fa3d-0114-417c-fd95-b3308a9d1611"
      },
      "execution_count": null,
      "outputs": [
        {
          "output_type": "display_data",
          "data": {
            "text/plain": [
              "<Figure size 640x480 with 1 Axes>"
            ],
            "image/png": "[encoded data removed]"
          },
          "metadata": {}
        }
      ]
    },
    {
      "cell_type": "markdown",
      "source": [
        "The variables that have taken are not colinear to each other. Thats why the graph looks like."
      ],
      "metadata": {
        "id": "1K0ql-zSzAbD"
      }
    },
    {
      "cell_type": "markdown",
      "source": [
        "##KNN Regression"
      ],
      "metadata": {
        "id": "zJARD7DZA2ew"
      }
    },
    {
      "cell_type": "code",
      "source": [
        "KNN = KNeighborsRegressor(n_neighbors=2,metric=\"euclidean\")\n",
        "KNN.fit(X_train, y_train)"
      ],
      "metadata": {
        "colab": {
          "base_uri": "https://localhost:8080/",
          "height": 74
        },
        "id": "2FnRl7fJA9NJ",
        "outputId": "cda588c4-2da7-47c8-f2a1-a48a5f147e6e"
      },
      "execution_count": null,
      "outputs": [
        {
          "output_type": "execute_result",
          "data": {
            "text/plain": [
              "KNeighborsRegressor(metric='euclidean', n_neighbors=2)"
            ],
            "text/html": [
              "<style>#sk-container-id-2 {color: black;background-color: white;}#sk-container-id-2 pre{padding: 0;}#sk-container-id-2 div.sk-toggleable {background-color: white;}#sk-container-id-2 label.sk-toggleable__label {cursor: pointer;display: block;width: 100%;margin-bottom: 0;padding: 0.3em;box-sizing: border-box;text-align: center;}#sk-container-id-2 label.sk-toggleable__label-arrow:before {content: \"▸\";float: left;margin-right: 0.25em;color: #696969;}#sk-container-id-2 label.sk-toggleable__label-arrow:hover:before {color: black;}#sk-container-id-2 div.sk-estimator:hover label.sk-toggleable__label-arrow:before {color: black;}#sk-container-id-2 div.sk-toggleable__content {max-height: 0;max-width: 0;overflow: hidden;text-align: left;background-color: #f0f8ff;}#sk-container-id-2 div.sk-toggleable__content pre {margin: 0.2em;color: black;border-radius: 0.25em;background-color: #f0f8ff;}#sk-container-id-2 input.sk-toggleable__control:checked~div.sk-toggleable__content {max-height: 200px;max-width: 100%;overflow: auto;}#sk-container-id-2 input.sk-toggleable__control:checked~label.sk-toggleable__label-arrow:before {content: \"▾\";}#sk-container-id-2 div.sk-estimator input.sk-toggleable__control:checked~label.sk-toggleable__label {background-color: #d4ebff;}#sk-container-id-2 div.sk-label input.sk-toggleable__control:checked~label.sk-toggleable__label {background-color: #d4ebff;}#sk-container-id-2 input.sk-hidden--visually {border: 0;clip: rect(1px 1px 1px 1px);clip: rect(1px, 1px, 1px, 1px);height: 1px;margin: -1px;overflow: hidden;padding: 0;position: absolute;width: 1px;}#sk-container-id-2 div.sk-estimator {font-family: monospace;background-color: #f0f8ff;border: 1px dotted black;border-radius: 0.25em;box-sizing: border-box;margin-bottom: 0.5em;}#sk-container-id-2 div.sk-estimator:hover {background-color: #d4ebff;}#sk-container-id-2 div.sk-parallel-item::after {content: \"\";width: 100%;border-bottom: 1px solid gray;flex-grow: 1;}#sk-container-id-2 div.sk-label:hover label.sk-toggleable__label {background-color: #d4ebff;}#sk-container-id-2 div.sk-serial::before {content: \"\";position: absolute;border-left: 1px solid gray;box-sizing: border-box;top: 0;bottom: 0;left: 50%;z-index: 0;}#sk-container-id-2 div.sk-serial {display: flex;flex-direction: column;align-items: center;background-color: white;padding-right: 0.2em;padding-left: 0.2em;position: relative;}#sk-container-id-2 div.sk-item {position: relative;z-index: 1;}#sk-container-id-2 div.sk-parallel {display: flex;align-items: stretch;justify-content: center;background-color: white;position: relative;}#sk-container-id-2 div.sk-item::before, #sk-container-id-2 div.sk-parallel-item::before {content: \"\";position: absolute;border-left: 1px solid gray;box-sizing: border-box;top: 0;bottom: 0;left: 50%;z-index: -1;}#sk-container-id-2 div.sk-parallel-item {display: flex;flex-direction: column;z-index: 1;position: relative;background-color: white;}#sk-container-id-2 div.sk-parallel-item:first-child::after {align-self: flex-end;width: 50%;}#sk-container-id-2 div.sk-parallel-item:last-child::after {align-self: flex-start;width: 50%;}#sk-container-id-2 div.sk-parallel-item:only-child::after {width: 0;}#sk-container-id-2 div.sk-dashed-wrapped {border: 1px dashed gray;margin: 0 0.4em 0.5em 0.4em;box-sizing: border-box;padding-bottom: 0.4em;background-color: white;}#sk-container-id-2 div.sk-label label {font-family: monospace;font-weight: bold;display: inline-block;line-height: 1.2em;}#sk-container-id-2 div.sk-label-container {text-align: center;}#sk-container-id-2 div.sk-container {/* jupyter's `normalize.less` sets `[hidden] { display: none; }` but bootstrap.min.css set `[hidden] { display: none !important; }` so we also need the `!important` here to be able to override the default hidden behavior on the sphinx rendered scikit-learn.org. See: https://github.com/scikit-learn/scikit-learn/issues/21755 */display: inline-block !important;position: relative;}#sk-container-id-2 div.sk-text-repr-fallback {display: none;}</style><div id=\"sk-container-id-2\" class=\"sk-top-container\"><div class=\"sk-text-repr-fallback\"><pre>KNeighborsRegressor(metric=&#x27;euclidean&#x27;, n_neighbors=2)</pre><b>In a Jupyter environment, please rerun this cell to show the HTML representation or trust the notebook. <br />On GitHub, the HTML representation is unable to render, please try loading this page with nbviewer.org.</b></div><div class=\"sk-container\" hidden><div class=\"sk-item\"><div class=\"sk-estimator sk-toggleable\"><input class=\"sk-toggleable__control sk-hidden--visually\" id=\"sk-estimator-id-2\" type=\"checkbox\" checked><label for=\"sk-estimator-id-2\" class=\"sk-toggleable__label sk-toggleable__label-arrow\">KNeighborsRegressor</label><div class=\"sk-toggleable__content\"><pre>KNeighborsRegressor(metric=&#x27;euclidean&#x27;, n_neighbors=2)</pre></div></div></div></div></div>"
            ]
          },
          "metadata": {},
          "execution_count": 12
        }
      ]
    },
    {
      "cell_type": "code",
      "source": [
        "# Make Prediction for testing data\n",
        "y_pred_knn = KNN.predict(X_test)"
      ],
      "metadata": {
        "id": "P2-r6LrwCDLV"
      },
      "execution_count": null,
      "outputs": []
    },
    {
      "cell_type": "markdown",
      "source": [
        "## Random Forest Regressor"
      ],
      "metadata": {
        "id": "vnX3aukRVJOx"
      }
    },
    {
      "cell_type": "code",
      "source": [
        "Ran_regr = RandomForestRegressor(max_depth=2, random_state=0)\n",
        "Ran_regr.fit(X_train, y_train)"
      ],
      "metadata": {
        "colab": {
          "base_uri": "https://localhost:8080/",
          "height": 74
        },
        "id": "1mavKteWVM-s",
        "outputId": "e1e78a71-29ab-4506-fac6-c50414bca56e"
      },
      "execution_count": null,
      "outputs": [
        {
          "output_type": "execute_result",
          "data": {
            "text/plain": [
              "RandomForestRegressor(max_depth=2, random_state=0)"
            ],
            "text/html": [
              "<style>#sk-container-id-3 {color: black;background-color: white;}#sk-container-id-3 pre{padding: 0;}#sk-container-id-3 div.sk-toggleable {background-color: white;}#sk-container-id-3 label.sk-toggleable__label {cursor: pointer;display: block;width: 100%;margin-bottom: 0;padding: 0.3em;box-sizing: border-box;text-align: center;}#sk-container-id-3 label.sk-toggleable__label-arrow:before {content: \"▸\";float: left;margin-right: 0.25em;color: #696969;}#sk-container-id-3 label.sk-toggleable__label-arrow:hover:before {color: black;}#sk-container-id-3 div.sk-estimator:hover label.sk-toggleable__label-arrow:before {color: black;}#sk-container-id-3 div.sk-toggleable__content {max-height: 0;max-width: 0;overflow: hidden;text-align: left;background-color: #f0f8ff;}#sk-container-id-3 div.sk-toggleable__content pre {margin: 0.2em;color: black;border-radius: 0.25em;background-color: #f0f8ff;}#sk-container-id-3 input.sk-toggleable__control:checked~div.sk-toggleable__content {max-height: 200px;max-width: 100%;overflow: auto;}#sk-container-id-3 input.sk-toggleable__control:checked~label.sk-toggleable__label-arrow:before {content: \"▾\";}#sk-container-id-3 div.sk-estimator input.sk-toggleable__control:checked~label.sk-toggleable__label {background-color: #d4ebff;}#sk-container-id-3 div.sk-label input.sk-toggleable__control:checked~label.sk-toggleable__label {background-color: #d4ebff;}#sk-container-id-3 input.sk-hidden--visually {border: 0;clip: rect(1px 1px 1px 1px);clip: rect(1px, 1px, 1px, 1px);height: 1px;margin: -1px;overflow: hidden;padding: 0;position: absolute;width: 1px;}#sk-container-id-3 div.sk-estimator {font-family: monospace;background-color: #f0f8ff;border: 1px dotted black;border-radius: 0.25em;box-sizing: border-box;margin-bottom: 0.5em;}#sk-container-id-3 div.sk-estimator:hover {background-color: #d4ebff;}#sk-container-id-3 div.sk-parallel-item::after {content: \"\";width: 100%;border-bottom: 1px solid gray;flex-grow: 1;}#sk-container-id-3 div.sk-label:hover label.sk-toggleable__label {background-color: #d4ebff;}#sk-container-id-3 div.sk-serial::before {content: \"\";position: absolute;border-left: 1px solid gray;box-sizing: border-box;top: 0;bottom: 0;left: 50%;z-index: 0;}#sk-container-id-3 div.sk-serial {display: flex;flex-direction: column;align-items: center;background-color: white;padding-right: 0.2em;padding-left: 0.2em;position: relative;}#sk-container-id-3 div.sk-item {position: relative;z-index: 1;}#sk-container-id-3 div.sk-parallel {display: flex;align-items: stretch;justify-content: center;background-color: white;position: relative;}#sk-container-id-3 div.sk-item::before, #sk-container-id-3 div.sk-parallel-item::before {content: \"\";position: absolute;border-left: 1px solid gray;box-sizing: border-box;top: 0;bottom: 0;left: 50%;z-index: -1;}#sk-container-id-3 div.sk-parallel-item {display: flex;flex-direction: column;z-index: 1;position: relative;background-color: white;}#sk-container-id-3 div.sk-parallel-item:first-child::after {align-self: flex-end;width: 50%;}#sk-container-id-3 div.sk-parallel-item:last-child::after {align-self: flex-start;width: 50%;}#sk-container-id-3 div.sk-parallel-item:only-child::after {width: 0;}#sk-container-id-3 div.sk-dashed-wrapped {border: 1px dashed gray;margin: 0 0.4em 0.5em 0.4em;box-sizing: border-box;padding-bottom: 0.4em;background-color: white;}#sk-container-id-3 div.sk-label label {font-family: monospace;font-weight: bold;display: inline-block;line-height: 1.2em;}#sk-container-id-3 div.sk-label-container {text-align: center;}#sk-container-id-3 div.sk-container {/* jupyter's `normalize.less` sets `[hidden] { display: none; }` but bootstrap.min.css set `[hidden] { display: none !important; }` so we also need the `!important` here to be able to override the default hidden behavior on the sphinx rendered scikit-learn.org. See: https://github.com/scikit-learn/scikit-learn/issues/21755 */display: inline-block !important;position: relative;}#sk-container-id-3 div.sk-text-repr-fallback {display: none;}</style><div id=\"sk-container-id-3\" class=\"sk-top-container\"><div class=\"sk-text-repr-fallback\"><pre>RandomForestRegressor(max_depth=2, random_state=0)</pre><b>In a Jupyter environment, please rerun this cell to show the HTML representation or trust the notebook. <br />On GitHub, the HTML representation is unable to render, please try loading this page with nbviewer.org.</b></div><div class=\"sk-container\" hidden><div class=\"sk-item\"><div class=\"sk-estimator sk-toggleable\"><input class=\"sk-toggleable__control sk-hidden--visually\" id=\"sk-estimator-id-3\" type=\"checkbox\" checked><label for=\"sk-estimator-id-3\" class=\"sk-toggleable__label sk-toggleable__label-arrow\">RandomForestRegressor</label><div class=\"sk-toggleable__content\"><pre>RandomForestRegressor(max_depth=2, random_state=0)</pre></div></div></div></div></div>"
            ]
          },
          "metadata": {},
          "execution_count": 14
        }
      ]
    },
    {
      "cell_type": "code",
      "source": [
        "# Make Prediction for testing data\n",
        "y_pred_ran = Ran_regr.predict(X_test)"
      ],
      "metadata": {
        "id": "vs1TeU6mWTN9"
      },
      "execution_count": null,
      "outputs": []
    },
    {
      "cell_type": "markdown",
      "source": [
        "## Decision Tree Regressor"
      ],
      "metadata": {
        "id": "r3DwHQYxvjTQ"
      }
    },
    {
      "cell_type": "code",
      "source": [
        "# Fit the decision tree model\n",
        "DT_Reg = DecisionTreeRegressor(max_depth=1)\n",
        "DT_Reg.fit(X_train, y_train)"
      ],
      "metadata": {
        "colab": {
          "base_uri": "https://localhost:8080/",
          "height": 74
        },
        "id": "KjhlLdhyugjv",
        "outputId": "3c871771-663c-4c58-c4bc-03d9b902f68c"
      },
      "execution_count": null,
      "outputs": [
        {
          "output_type": "execute_result",
          "data": {
            "text/plain": [
              "DecisionTreeRegressor(max_depth=1)"
            ],
            "text/html": [
              "<style>#sk-container-id-4 {color: black;background-color: white;}#sk-container-id-4 pre{padding: 0;}#sk-container-id-4 div.sk-toggleable {background-color: white;}#sk-container-id-4 label.sk-toggleable__label {cursor: pointer;display: block;width: 100%;margin-bottom: 0;padding: 0.3em;box-sizing: border-box;text-align: center;}#sk-container-id-4 label.sk-toggleable__label-arrow:before {content: \"▸\";float: left;margin-right: 0.25em;color: #696969;}#sk-container-id-4 label.sk-toggleable__label-arrow:hover:before {color: black;}#sk-container-id-4 div.sk-estimator:hover label.sk-toggleable__label-arrow:before {color: black;}#sk-container-id-4 div.sk-toggleable__content {max-height: 0;max-width: 0;overflow: hidden;text-align: left;background-color: #f0f8ff;}#sk-container-id-4 div.sk-toggleable__content pre {margin: 0.2em;color: black;border-radius: 0.25em;background-color: #f0f8ff;}#sk-container-id-4 input.sk-toggleable__control:checked~div.sk-toggleable__content {max-height: 200px;max-width: 100%;overflow: auto;}#sk-container-id-4 input.sk-toggleable__control:checked~label.sk-toggleable__label-arrow:before {content: \"▾\";}#sk-container-id-4 div.sk-estimator input.sk-toggleable__control:checked~label.sk-toggleable__label {background-color: #d4ebff;}#sk-container-id-4 div.sk-label input.sk-toggleable__control:checked~label.sk-toggleable__label {background-color: #d4ebff;}#sk-container-id-4 input.sk-hidden--visually {border: 0;clip: rect(1px 1px 1px 1px);clip: rect(1px, 1px, 1px, 1px);height: 1px;margin: -1px;overflow: hidden;padding: 0;position: absolute;width: 1px;}#sk-container-id-4 div.sk-estimator {font-family: monospace;background-color: #f0f8ff;border: 1px dotted black;border-radius: 0.25em;box-sizing: border-box;margin-bottom: 0.5em;}#sk-container-id-4 div.sk-estimator:hover {background-color: #d4ebff;}#sk-container-id-4 div.sk-parallel-item::after {content: \"\";width: 100%;border-bottom: 1px solid gray;flex-grow: 1;}#sk-container-id-4 div.sk-label:hover label.sk-toggleable__label {background-color: #d4ebff;}#sk-container-id-4 div.sk-serial::before {content: \"\";position: absolute;border-left: 1px solid gray;box-sizing: border-box;top: 0;bottom: 0;left: 50%;z-index: 0;}#sk-container-id-4 div.sk-serial {display: flex;flex-direction: column;align-items: center;background-color: white;padding-right: 0.2em;padding-left: 0.2em;position: relative;}#sk-container-id-4 div.sk-item {position: relative;z-index: 1;}#sk-container-id-4 div.sk-parallel {display: flex;align-items: stretch;justify-content: center;background-color: white;position: relative;}#sk-container-id-4 div.sk-item::before, #sk-container-id-4 div.sk-parallel-item::before {content: \"\";position: absolute;border-left: 1px solid gray;box-sizing: border-box;top: 0;bottom: 0;left: 50%;z-index: -1;}#sk-container-id-4 div.sk-parallel-item {display: flex;flex-direction: column;z-index: 1;position: relative;background-color: white;}#sk-container-id-4 div.sk-parallel-item:first-child::after {align-self: flex-end;width: 50%;}#sk-container-id-4 div.sk-parallel-item:last-child::after {align-self: flex-start;width: 50%;}#sk-container-id-4 div.sk-parallel-item:only-child::after {width: 0;}#sk-container-id-4 div.sk-dashed-wrapped {border: 1px dashed gray;margin: 0 0.4em 0.5em 0.4em;box-sizing: border-box;padding-bottom: 0.4em;background-color: white;}#sk-container-id-4 div.sk-label label {font-family: monospace;font-weight: bold;display: inline-block;line-height: 1.2em;}#sk-container-id-4 div.sk-label-container {text-align: center;}#sk-container-id-4 div.sk-container {/* jupyter's `normalize.less` sets `[hidden] { display: none; }` but bootstrap.min.css set `[hidden] { display: none !important; }` so we also need the `!important` here to be able to override the default hidden behavior on the sphinx rendered scikit-learn.org. See: https://github.com/scikit-learn/scikit-learn/issues/21755 */display: inline-block !important;position: relative;}#sk-container-id-4 div.sk-text-repr-fallback {display: none;}</style><div id=\"sk-container-id-4\" class=\"sk-top-container\"><div class=\"sk-text-repr-fallback\"><pre>DecisionTreeRegressor(max_depth=1)</pre><b>In a Jupyter environment, please rerun this cell to show the HTML representation or trust the notebook. <br />On GitHub, the HTML representation is unable to render, please try loading this page with nbviewer.org.</b></div><div class=\"sk-container\" hidden><div class=\"sk-item\"><div class=\"sk-estimator sk-toggleable\"><input class=\"sk-toggleable__control sk-hidden--visually\" id=\"sk-estimator-id-4\" type=\"checkbox\" checked><label for=\"sk-estimator-id-4\" class=\"sk-toggleable__label sk-toggleable__label-arrow\">DecisionTreeRegressor</label><div class=\"sk-toggleable__content\"><pre>DecisionTreeRegressor(max_depth=1)</pre></div></div></div></div></div>"
            ]
          },
          "metadata": {},
          "execution_count": 16
        }
      ]
    },
    {
      "cell_type": "code",
      "source": [
        "# Make Prediction for testing data\n",
        "y_pred_DT = DT_Reg.predict(X_test)"
      ],
      "metadata": {
        "id": "LOCUdmqNvfNQ"
      },
      "execution_count": null,
      "outputs": []
    },
    {
      "cell_type": "markdown",
      "source": [
        "##Comparison"
      ],
      "metadata": {
        "id": "wonYRH88HY2W"
      }
    },
    {
      "cell_type": "code",
      "source": [
        "#LINEAR REGRESION PERFORMANCE MEASURE\n",
        "print('Mean Absolute Error of Linear Regression:', mean_absolute_error(y_test,y_pred))\n",
        "print('Mean Absolute Percentage Error of Linear Regression:', mean_absolute_percentage_error(y_test,y_pred))\n",
        "print('Mean Squared Error of Linear Regression:', mean_squared_error(y_test,y_pred))\n",
        "print('Root Mean Squared Error of Linear Regression:',np.sqrt(mean_squared_error(y_test,y_pred)))"
      ],
      "metadata": {
        "colab": {
          "base_uri": "https://localhost:8080/"
        },
        "id": "tMK63fs5IA_U",
        "outputId": "19899dc1-1e52-4ed1-f2ce-e98a86e17b2d"
      },
      "execution_count": null,
      "outputs": [
        {
          "output_type": "stream",
          "name": "stdout",
          "text": [
            "Mean Absolute Error of Linear Regression: 0.9415407137510868\n",
            "Mean Absolute Percentage Error of Linear Regression: 0.8037959894073922\n",
            "Mean Squared Error of Linear Regression: 1.204314393536986\n",
            "Root Mean Squared Error of Linear Regression: 1.0974125903856697\n"
          ]
        }
      ]
    },
    {
      "cell_type": "code",
      "source": [
        "#KNN REGRESION PERFORMANCE MEASURE\n",
        "print('Mean Absolute Error of KNN Regression:', mean_absolute_error(y_test,y_pred_knn))\n",
        "print('Mean Absolute Percentage Error of KNN Regression:', mean_absolute_percentage_error(y_test,y_pred_knn))\n",
        "print('Mean Squared Error of KNN Regression:', mean_squared_error(y_test,y_pred_knn))\n",
        "print('Root Mean Squared Error of KNN Regression:',np.sqrt(mean_squared_error(y_test,y_pred_knn)))"
      ],
      "metadata": {
        "colab": {
          "base_uri": "https://localhost:8080/"
        },
        "id": "4ibxNjdzJRCr",
        "outputId": "ad9b19fd-b9c2-4586-83a4-26d3c86636ec"
      },
      "execution_count": null,
      "outputs": [
        {
          "output_type": "stream",
          "name": "stdout",
          "text": [
            "Mean Absolute Error of KNN Regression: 1.0779075\n",
            "Mean Absolute Percentage Error of KNN Regression: 0.8349060747962374\n",
            "Mean Squared Error of KNN Regression: 1.6520907175\n",
            "Root Mean Squared Error of KNN Regression: 1.2853368109176675\n"
          ]
        }
      ]
    },
    {
      "cell_type": "code",
      "source": [
        "#Random Forest REGRESION PERFORMANCE MEASURE\n",
        "print('Mean Absolute Error of Random Forest Regression:', mean_absolute_error(y_test,y_pred_ran))\n",
        "print('Mean Absolute Percentage Error of Random Forest Regression:', mean_absolute_percentage_error(y_test,y_pred_ran))\n",
        "print('Mean Squared Error of Random Forest Regression:', mean_squared_error(y_test,y_pred_ran))\n",
        "print('Root Mean Squared Error of Random Forest Regression:',np.sqrt(mean_squared_error(y_test,y_pred_ran)))"
      ],
      "metadata": {
        "colab": {
          "base_uri": "https://localhost:8080/"
        },
        "id": "dpWq7FQYY_60",
        "outputId": "c9f4e6a2-e46c-47a5-a518-57876acef603"
      },
      "execution_count": null,
      "outputs": [
        {
          "output_type": "stream",
          "name": "stdout",
          "text": [
            "Mean Absolute Error of Random Forest Regression: 0.9396269648942537\n",
            "Mean Absolute Percentage Error of Random Forest Regression: 0.7972199862694934\n",
            "Mean Squared Error of Random Forest Regression: 1.1990670541163593\n",
            "Root Mean Squared Error of Random Forest Regression: 1.0950192026244834\n"
          ]
        }
      ]
    },
    {
      "cell_type": "code",
      "source": [
        "#Decision Tree REGRESION PERFORMANCE MEASURE\n",
        "print('Mean Absolute Error of Decison Tree Regression:', mean_absolute_error(y_test,y_pred_DT))\n",
        "print('Mean Absolute Percentage Error of Decison Tree Regression:', mean_absolute_percentage_error(y_test,y_pred_DT))\n",
        "print('Mean Squared Error of Decison Tree Regression:', mean_squared_error(y_test,y_pred_DT))\n",
        "print('Root Mean Squared Error of Decison Tree Regression:',np.sqrt(mean_squared_error(y_test,y_pred_DT)))"
      ],
      "metadata": {
        "colab": {
          "base_uri": "https://localhost:8080/"
        },
        "id": "XG-s3VP3wBwG",
        "outputId": "bd90b783-133b-4aec-eeeb-629807dcb9d0"
      },
      "execution_count": null,
      "outputs": [
        {
          "output_type": "stream",
          "name": "stdout",
          "text": [
            "Mean Absolute Error of Decison Tree Regression: 0.9430426414160025\n",
            "Mean Absolute Percentage Error of Decison Tree Regression: 0.8012440702067899\n",
            "Mean Squared Error of Decison Tree Regression: 1.2066869160107396\n",
            "Root Mean Squared Error of Decison Tree Regression: 1.0984930204651915\n"
          ]
        }
      ]
    },
    {
      "cell_type": "markdown",
      "source": [
        "## Building Multiple Regression models and with hyperparameter tuning."
      ],
      "metadata": {
        "id": "Mz0Tp2pztsz2"
      }
    },
    {
      "cell_type": "code",
      "source": [
        "# Define the pipeline steps\n",
        "steps = [\n",
        "    ('scaler', StandardScaler()),  # Apply feature scaling\n",
        "    ('model', LinearRegression())  # Initial model\n",
        "]\n",
        "\n",
        "# Define the parameter grid for each model\n",
        "param_grid = [\n",
        "    # Linear Regression\n",
        "    {\n",
        "        'model': [LinearRegression()]\n",
        "    },\n",
        "    # KNN Regression\n",
        "    {\n",
        "        'model': [KNeighborsRegressor()],\n",
        "        'model__n_neighbors': [3, 5, 7]  # Example hyperparameter values\n",
        "    },\n",
        "    # Decision Tree Regression\n",
        "    {\n",
        "        'model': [DecisionTreeRegressor()],\n",
        "        'model__max_depth': [None, 5, 10]  # Example hyperparameter values\n",
        "    },\n",
        "    # SVM Regression\n",
        "    {\n",
        "        'model': [SVR()],\n",
        "        'model__C': [1.0, 10.0, 100.0],  # Example hyperparameter values\n",
        "        'model__kernel': ['linear', 'rbf']  # Example hyperparameter values\n",
        "    },\n",
        "    # Random Forest Regression\n",
        "    {\n",
        "        'model': [RandomForestRegressor()],\n",
        "        'model__n_estimators': [100, 200],  # Example hyperparameter values\n",
        "        'model__max_depth': [None, 5]  # Example hyperparameter values\n",
        "    }\n",
        "]\n",
        "\n",
        "# Create the pipeline\n",
        "pipeline = Pipeline(steps)\n",
        "\n",
        "# Perform GridSearchCV for hyperparameter tuning\n",
        "grid_search = GridSearchCV(pipeline, param_grid, cv=5, scoring='neg_mean_squared_error', refit=True)  # 5-fold cross-validation\n",
        "\n",
        "# Fit the pipeline to the data\n",
        "grid_search.fit(X_train, y_train)\n",
        "\n",
        "# Print the best hyperparameters and the best result of each model\n",
        "for i, params in enumerate(grid_search.cv_results_['params']):\n",
        "    print(f\"Model {i+1} - Hyperparameters: {params}\")\n",
        "    print(f\"Model {i+1} - MSE: {-grid_search.cv_results_['mean_test_score'][i]}\")\n",
        "    print(f\"Model {i+1} - RMSE: {np.sqrt(-grid_search.cv_results_['mean_test_score'][i])}\")\n",
        "    print(f\"Model {i+1} - MAE: {-grid_search.cv_results_['mean_test_score'][i]}\")\n",
        "\n",
        "    if i == grid_search.best_index_:\n",
        "        # Transform test set using the best scaler\n",
        "        X_test_scaled = grid_search.best_estimator_.named_steps['scaler'].transform(X_test)\n",
        "\n",
        "        # Predict on test set using the best model\n",
        "        y_pred = grid_search.best_estimator_.predict(X_test_scaled)\n",
        "        mape = mean_absolute_percentage_error(y_test, y_pred)\n",
        "        print(f\"Model {i+1} - Best MAPE: {mape}\")\n",
        "\n",
        "    print(\"---------------------\")\n"
      ],
      "metadata": {
        "colab": {
          "base_uri": "https://localhost:8080/"
        },
        "id": "tt9c5UnYt65t",
        "outputId": "ca39d72c-78da-4848-c32a-ac0b512292b8"
      },
      "execution_count": null,
      "outputs": [
        {
          "output_type": "stream",
          "name": "stdout",
          "text": [
            "Model 1 - Hyperparameters: {'model': LinearRegression()}\n",
            "Model 1 - MSE: 1.1859943524803913\n",
            "Model 1 - RMSE: 1.0890336783040235\n",
            "Model 1 - MAE: 1.1859943524803913\n",
            "Model 1 - Best MAPE: 0.814389698832255\n",
            "---------------------\n",
            "Model 2 - Hyperparameters: {'model': KNeighborsRegressor(), 'model__n_neighbors': 3}\n",
            "Model 2 - MSE: 1.5779589865277779\n",
            "Model 2 - RMSE: 1.256168375070706\n",
            "Model 2 - MAE: 1.5779589865277779\n",
            "---------------------\n",
            "Model 3 - Hyperparameters: {'model': KNeighborsRegressor(), 'model__n_neighbors': 5}\n",
            "Model 3 - MSE: 1.507358713275\n",
            "Model 3 - RMSE: 1.227745378030396\n",
            "Model 3 - MAE: 1.507358713275\n",
            "---------------------\n",
            "Model 4 - Hyperparameters: {'model': KNeighborsRegressor(), 'model__n_neighbors': 7}\n",
            "Model 4 - MSE: 1.3834693115816328\n",
            "Model 4 - RMSE: 1.176209722618221\n",
            "Model 4 - MAE: 1.3834693115816328\n",
            "---------------------\n",
            "Model 5 - Hyperparameters: {'model': DecisionTreeRegressor(), 'model__max_depth': None}\n",
            "Model 5 - MSE: 1.209507787022046\n",
            "Model 5 - RMSE: 1.0997762440706047\n",
            "Model 5 - MAE: 1.209507787022046\n",
            "---------------------\n",
            "Model 6 - Hyperparameters: {'model': DecisionTreeRegressor(), 'model__max_depth': 5}\n",
            "Model 6 - MSE: 1.2057409229100728\n",
            "Model 6 - RMSE: 1.098062349281712\n",
            "Model 6 - MAE: 1.2057409229100728\n",
            "---------------------\n",
            "Model 7 - Hyperparameters: {'model': DecisionTreeRegressor(), 'model__max_depth': 10}\n",
            "Model 7 - MSE: 1.209507787022046\n",
            "Model 7 - RMSE: 1.0997762440706047\n",
            "Model 7 - MAE: 1.209507787022046\n",
            "---------------------\n",
            "Model 8 - Hyperparameters: {'model': SVR(), 'model__C': 1.0, 'model__kernel': 'linear'}\n",
            "Model 8 - MSE: 1.1889059984122574\n",
            "Model 8 - RMSE: 1.0903696613590537\n",
            "Model 8 - MAE: 1.1889059984122574\n",
            "---------------------\n",
            "Model 9 - Hyperparameters: {'model': SVR(), 'model__C': 1.0, 'model__kernel': 'rbf'}\n",
            "Model 9 - MSE: 1.1956935741647585\n",
            "Model 9 - RMSE: 1.093477742875802\n",
            "Model 9 - MAE: 1.1956935741647585\n",
            "---------------------\n",
            "Model 10 - Hyperparameters: {'model': SVR(), 'model__C': 10.0, 'model__kernel': 'linear'}\n",
            "Model 10 - MSE: 1.1889060629214694\n",
            "Model 10 - RMSE: 1.0903696909404028\n",
            "Model 10 - MAE: 1.1889060629214694\n",
            "---------------------\n",
            "Model 11 - Hyperparameters: {'model': SVR(), 'model__C': 10.0, 'model__kernel': 'rbf'}\n",
            "Model 11 - MSE: 1.1970729592425324\n",
            "Model 11 - RMSE: 1.0941082941110227\n",
            "Model 11 - MAE: 1.1970729592425324\n",
            "---------------------\n",
            "Model 12 - Hyperparameters: {'model': SVR(), 'model__C': 100.0, 'model__kernel': 'linear'}\n",
            "Model 12 - MSE: 1.188891254494349\n",
            "Model 12 - RMSE: 1.0903629003659052\n",
            "Model 12 - MAE: 1.188891254494349\n",
            "---------------------\n",
            "Model 13 - Hyperparameters: {'model': SVR(), 'model__C': 100.0, 'model__kernel': 'rbf'}\n",
            "Model 13 - MSE: 1.2008626963884228\n",
            "Model 13 - RMSE: 1.095838809491808\n",
            "Model 13 - MAE: 1.2008626963884228\n",
            "---------------------\n",
            "Model 14 - Hyperparameters: {'model': RandomForestRegressor(), 'model__max_depth': None, 'model__n_estimators': 100}\n",
            "Model 14 - MSE: 1.2092224159567562\n",
            "Model 14 - RMSE: 1.0996464959052779\n",
            "Model 14 - MAE: 1.2092224159567562\n",
            "---------------------\n",
            "Model 15 - Hyperparameters: {'model': RandomForestRegressor(), 'model__max_depth': None, 'model__n_estimators': 200}\n",
            "Model 15 - MSE: 1.211139905765401\n",
            "Model 15 - RMSE: 1.100518017010808\n",
            "Model 15 - MAE: 1.211139905765401\n",
            "---------------------\n",
            "Model 16 - Hyperparameters: {'model': RandomForestRegressor(), 'model__max_depth': 5, 'model__n_estimators': 100}\n",
            "Model 16 - MSE: 1.2013967051196892\n",
            "Model 16 - RMSE: 1.0960824353668337\n",
            "Model 16 - MAE: 1.2013967051196892\n",
            "---------------------\n",
            "Model 17 - Hyperparameters: {'model': RandomForestRegressor(), 'model__max_depth': 5, 'model__n_estimators': 200}\n",
            "Model 17 - MSE: 1.2019810925025511\n",
            "Model 17 - RMSE: 1.0963489829897008\n",
            "Model 17 - MAE: 1.2019810925025511\n",
            "---------------------\n"
          ]
        }
      ]
    },
    {
      "cell_type": "markdown",
      "source": [
        "From above Results, we can conclude that the data is not fit for regression specific task."
      ],
      "metadata": {
        "id": "YF8Q5wcdjBzG"
      }
    },
    {
      "cell_type": "markdown",
      "source": [
        "#Classification by taking binary variable"
      ],
      "metadata": {
        "id": "-_DlLB7Awxt4"
      }
    },
    {
      "cell_type": "code",
      "source": [
        "# Check for null values in each column of dataframe\n",
        "Mobile_data.isnull().sum()"
      ],
      "metadata": {
        "colab": {
          "base_uri": "https://localhost:8080/"
        },
        "id": "2n2VIjxnyhNP",
        "outputId": "8d3b4eec-e69f-428c-be87-d461dcf32f96"
      },
      "execution_count": null,
      "outputs": [
        {
          "output_type": "execute_result",
          "data": {
            "text/plain": [
              "battery_power    0\n",
              "blue             0\n",
              "clock_speed      0\n",
              "dual_sim         0\n",
              "fc               0\n",
              "four_g           0\n",
              "int_memory       0\n",
              "m_dep            0\n",
              "mobile_wt        0\n",
              "n_cores          0\n",
              "pc               0\n",
              "px_height        0\n",
              "px_width         0\n",
              "ram              0\n",
              "sc_h             0\n",
              "sc_w             0\n",
              "talk_time        0\n",
              "three_g          0\n",
              "touch_screen     0\n",
              "wifi             0\n",
              "price_range      0\n",
              "dtype: int64"
            ]
          },
          "metadata": {},
          "execution_count": 23
        }
      ]
    },
    {
      "cell_type": "markdown",
      "source": [
        "The train dataset contains 21 features and 2000 entries. There is no missing value in the dataset."
      ],
      "metadata": {
        "id": "mvb4s4lmyp-Q"
      }
    },
    {
      "cell_type": "code",
      "source": [
        "# Define lists of categorical features\n",
        "categorical = [\"blue\",\"dual_sim\",\"four_g\",\"n_cores\",\"three_g\",\"touch_screen\",\"wifi\"]\n",
        "\n",
        "# Convert the selected columns in the training data to string type\n",
        "categorical_tr = Mobile_data[categorical].astype(str)\n",
        "\n",
        "# Calculate the number of unique values for each column\n",
        "unique_counts = categorical_tr.nunique()\n",
        "\n",
        "# Find the unique values in each column\n",
        "unique_values = categorical_tr.apply(lambda x: x.unique())\n",
        "\n",
        "# Create a pandas DataFrame to display the results\n",
        "pd.DataFrame({'Number of Unique Values': unique_counts, 'Unique Values': unique_values})"
      ],
      "metadata": {
        "colab": {
          "base_uri": "https://localhost:8080/",
          "height": 269
        },
        "id": "6QM1qLqGynSf",
        "outputId": "239ea0e1-5863-42ad-af5b-7c8869a09afb"
      },
      "execution_count": null,
      "outputs": [
        {
          "output_type": "execute_result",
          "data": {
            "text/plain": [
              "              Number of Unique Values             Unique Values\n",
              "blue                                2                    [0, 1]\n",
              "dual_sim                            2                    [0, 1]\n",
              "four_g                              2                    [0, 1]\n",
              "n_cores                             8  [2, 3, 5, 6, 1, 8, 4, 7]\n",
              "three_g                             2                    [0, 1]\n",
              "touch_screen                        2                    [0, 1]\n",
              "wifi                                2                    [1, 0]"
            ],
            "text/html": [
              "\n",
              "  <div id=\"df-aae43bd8-2fe2-4f6e-8797-d82f8bf64e44\">\n",
              "    <div class=\"colab-df-container\">\n",
              "      <div>\n",
              "<style scoped>\n",
              "    .dataframe tbody tr th:only-of-type {\n",
              "        vertical-align: middle;\n",
              "    }\n",
              "\n",
              "    .dataframe tbody tr th {\n",
              "        vertical-align: top;\n",
              "    }\n",
              "\n",
              "    .dataframe thead th {\n",
              "        text-align: right;\n",
              "    }\n",
              "</style>\n",
              "<table border=\"1\" class=\"dataframe\">\n",
              "  <thead>\n",
              "    <tr style=\"text-align: right;\">\n",
              "      <th></th>\n",
              "      <th>Number of Unique Values</th>\n",
              "      <th>Unique Values</th>\n",
              "    </tr>\n",
              "  </thead>\n",
              "  <tbody>\n",
              "    <tr>\n",
              "      <th>blue</th>\n",
              "      <td>2</td>\n",
              "      <td>[0, 1]</td>\n",
              "    </tr>\n",
              "    <tr>\n",
              "      <th>dual_sim</th>\n",
              "      <td>2</td>\n",
              "      <td>[0, 1]</td>\n",
              "    </tr>\n",
              "    <tr>\n",
              "      <th>four_g</th>\n",
              "      <td>2</td>\n",
              "      <td>[0, 1]</td>\n",
              "    </tr>\n",
              "    <tr>\n",
              "      <th>n_cores</th>\n",
              "      <td>8</td>\n",
              "      <td>[2, 3, 5, 6, 1, 8, 4, 7]</td>\n",
              "    </tr>\n",
              "    <tr>\n",
              "      <th>three_g</th>\n",
              "      <td>2</td>\n",
              "      <td>[0, 1]</td>\n",
              "    </tr>\n",
              "    <tr>\n",
              "      <th>touch_screen</th>\n",
              "      <td>2</td>\n",
              "      <td>[0, 1]</td>\n",
              "    </tr>\n",
              "    <tr>\n",
              "      <th>wifi</th>\n",
              "      <td>2</td>\n",
              "      <td>[1, 0]</td>\n",
              "    </tr>\n",
              "  </tbody>\n",
              "</table>\n",
              "</div>\n",
              "      <button class=\"colab-df-convert\" onclick=\"convertToInteractive('df-aae43bd8-2fe2-4f6e-8797-d82f8bf64e44')\"\n",
              "              title=\"Convert this dataframe to an interactive table.\"\n",
              "              style=\"display:none;\">\n",
              "        \n",
              "  <svg xmlns=\"http://www.w3.org/2000/svg\" height=\"24px\"viewBox=\"0 0 24 24\"\n",
              "       width=\"24px\">\n",
              "    <path d=\"M0 0h24v24H0V0z\" fill=\"none\"/>\n",
              "    <path d=\"M18.56 5.44l.94 2.06.94-2.06 2.06-.94-2.06-.94-.94-2.06-.94 2.06-2.06.94zm-11 1L8.5 8.5l.94-2.06 2.06-.94-2.06-.94L8.5 2.5l-.94 2.06-2.06.94zm10 10l.94 2.06.94-2.06 2.06-.94-2.06-.94-.94-2.06-.94 2.06-2.06.94z\"/><path d=\"M17.41 7.96l-1.37-1.37c-.4-.4-.92-.59-1.43-.59-.52 0-1.04.2-1.43.59L10.3 9.45l-7.72 7.72c-.78.78-.78 2.05 0 2.83L4 21.41c.39.39.9.59 1.41.59.51 0 1.02-.2 1.41-.59l7.78-7.78 2.81-2.81c.8-.78.8-2.07 0-2.86zM5.41 20L4 18.59l7.72-7.72 1.47 1.35L5.41 20z\"/>\n",
              "  </svg>\n",
              "      </button>\n",
              "      \n",
              "  <style>\n",
              "    .colab-df-container {\n",
              "      display:flex;\n",
              "      flex-wrap:wrap;\n",
              "      gap: 12px;\n",
              "    }\n",
              "\n",
              "    .colab-df-convert {\n",
              "      background-color: #E8F0FE;\n",
              "      border: none;\n",
              "      border-radius: 50%;\n",
              "      cursor: pointer;\n",
              "      display: none;\n",
              "      fill: #1967D2;\n",
              "      height: 32px;\n",
              "      padding: 0 0 0 0;\n",
              "      width: 32px;\n",
              "    }\n",
              "\n",
              "    .colab-df-convert:hover {\n",
              "      background-color: #E2EBFA;\n",
              "      box-shadow: 0px 1px 2px rgba(60, 64, 67, 0.3), 0px 1px 3px 1px rgba(60, 64, 67, 0.15);\n",
              "      fill: #174EA6;\n",
              "    }\n",
              "\n",
              "    [theme=dark] .colab-df-convert {\n",
              "      background-color: #3B4455;\n",
              "      fill: #D2E3FC;\n",
              "    }\n",
              "\n",
              "    [theme=dark] .colab-df-convert:hover {\n",
              "      background-color: #434B5C;\n",
              "      box-shadow: 0px 1px 3px 1px rgba(0, 0, 0, 0.15);\n",
              "      filter: drop-shadow(0px 1px 2px rgba(0, 0, 0, 0.3));\n",
              "      fill: #FFFFFF;\n",
              "    }\n",
              "  </style>\n",
              "\n",
              "      <script>\n",
              "        const buttonEl =\n",
              "          document.querySelector('#df-aae43bd8-2fe2-4f6e-8797-d82f8bf64e44 button.colab-df-convert');\n",
              "        buttonEl.style.display =\n",
              "          google.colab.kernel.accessAllowed ? 'block' : 'none';\n",
              "\n",
              "        async function convertToInteractive(key) {\n",
              "          const element = document.querySelector('#df-aae43bd8-2fe2-4f6e-8797-d82f8bf64e44');\n",
              "          const dataTable =\n",
              "            await google.colab.kernel.invokeFunction('convertToInteractive',\n",
              "                                                     [key], {});\n",
              "          if (!dataTable) return;\n",
              "\n",
              "          const docLinkHtml = 'Like what you see? Visit the ' +\n",
              "            '<a target=\"_blank\" href=https://colab.research.google.com/notebooks/data_table.ipynb>data table notebook</a>'\n",
              "            + ' to learn more about interactive tables.';\n",
              "          element.innerHTML = '';\n",
              "          dataTable['output_type'] = 'display_data';\n",
              "          await google.colab.output.renderOutput(dataTable, element);\n",
              "          const docLink = document.createElement('div');\n",
              "          docLink.innerHTML = docLinkHtml;\n",
              "          element.appendChild(docLink);\n",
              "        }\n",
              "      </script>\n",
              "    </div>\n",
              "  </div>\n",
              "  "
            ]
          },
          "metadata": {},
          "execution_count": 24
        }
      ]
    },
    {
      "cell_type": "markdown",
      "source": [
        "####Logistic Regression\n",
        "\n",
        "Here I took dual sim column as a target variable. Because it is binary classification.\n",
        "\n",
        "If mobile having dual sim feature - Indicates 1\n",
        "\n",
        "If mobile does not have dual sim feature - Indicates 0"
      ],
      "metadata": {
        "id": "RnT7Co4HQ8la"
      }
    },
    {
      "cell_type": "code",
      "source": [
        "plt.figure(figsize=(15,5))\n",
        "plt.subplot(1, 2, 1)\n",
        "sns.countplot(x = \"dual_sim\", data = Mobile_data, palette = \"Set3\")\n",
        "plt.subplot(1, 2, 2)\n",
        "plt.pie(Mobile_data[\"dual_sim\"].value_counts(), labels = [\"Dual Sim supported mobiles\", \"Dual Sim unsupported mobiles\"], shadow = True, autopct = \"%1.1f%%\", colors = [\"#B7C2F8\",  \"#8DB997\"])\n",
        "plt.show()"
      ],
      "metadata": {
        "colab": {
          "base_uri": "https://localhost:8080/",
          "height": 465
        },
        "id": "QrxT9YyyQ6HV",
        "outputId": "4e168caa-21d4-4501-b153-b751b53aae11"
      },
      "execution_count": null,
      "outputs": [
        {
          "output_type": "display_data",
          "data": {
            "text/plain": [
              "<Figure size 1500x500 with 2 Axes>"
            ],
            "image/png": "[encoded data removed]"
          },
          "metadata": {}
        }
      ]
    },
    {
      "cell_type": "code",
      "source": [
        "# Create variables - DS - Dual Sim\n",
        "X_DS = Mobile_data.drop([\"dual_sim\"], axis=1)\n",
        "y_DS = Mobile_data[\"dual_sim\"].values"
      ],
      "metadata": {
        "id": "C6qA-_zyX2dm"
      },
      "execution_count": null,
      "outputs": []
    },
    {
      "cell_type": "code",
      "source": [
        "# Split dataset into training and testing data\n",
        "X_train_DS, X_test_DS, y_train_DS, y_test_DS = train_test_split(X_DS, y_DS, test_size = 0.3, random_state = 128) # %70 train data, %30 test data\n",
        "\n",
        "# Print lengths of training and testing datasets for each feature and target variable\n",
        "print(\"X_train: \",len(X_train_DS))\n",
        "print(\"X_test: \",len(X_test_DS))\n",
        "print(\"y_train: \",len(y_train_DS))\n",
        "print(\"y_test: \",len(y_test_DS))"
      ],
      "metadata": {
        "colab": {
          "base_uri": "https://localhost:8080/"
        },
        "id": "DuyGzQiCX265",
        "outputId": "61711f61-c605-4b25-c8c4-7828b9e70f74"
      },
      "execution_count": null,
      "outputs": [
        {
          "output_type": "stream",
          "name": "stdout",
          "text": [
            "X_train:  1400\n",
            "X_test:  600\n",
            "y_train:  1400\n",
            "y_test:  600\n"
          ]
        }
      ]
    },
    {
      "cell_type": "code",
      "source": [
        "# Creating the object of the class LogisticRegression\n",
        "Log_Reg= LogisticRegression(solver='lbfgs',max_iter=10000)\n",
        "\n",
        "# Training the model using the training data\n",
        "Log_Reg.fit(X_train_DS,y_train_DS)\n",
        "\n",
        "# Getting the intercept and the coefficients of the model\n",
        "print(\"Intercept:\",Log_Reg.intercept_,\"\\nCoefficients:\", Log_Reg.coef_)"
      ],
      "metadata": {
        "colab": {
          "base_uri": "https://localhost:8080/"
        },
        "id": "ZRlEfqUDX297",
        "outputId": "a5df0c5f-44a6-4cd8-b444-92cef9c98b7e"
      },
      "execution_count": null,
      "outputs": [
        {
          "output_type": "stream",
          "name": "stdout",
          "text": [
            "Intercept: [0.21404155] \n",
            "Coefficients: [[ 1.95974940e-05  1.45687094e-01 -1.30597438e-02 -1.48319492e-02\n",
            "  -4.66056921e-02 -2.36762506e-03 -2.15936145e-01 -3.22118856e-04\n",
            "  -3.93592696e-02  4.31425598e-03 -1.02155746e-04  1.42616182e-04\n",
            "   3.37786562e-01 -9.13617035e-03 -5.45773044e-03 -1.47094180e-02\n",
            "   1.81261887e-02 -9.84062086e-02  1.93164107e-02 -2.30620385e-01]]\n"
          ]
        }
      ]
    },
    {
      "cell_type": "code",
      "source": [
        "#predicting targets based on the model built\n",
        "train_predictions = Log_Reg.predict(X_train_DS)\n",
        "test_predictions = Log_Reg.predict(X_test_DS)"
      ],
      "metadata": {
        "id": "vkA1cnwXiaBI"
      },
      "execution_count": null,
      "outputs": []
    },
    {
      "cell_type": "code",
      "source": [
        "# Accuracy = no. of correct predictions / total predictions\n",
        "# score() method is used to find the accuracy of a model\n",
        "\n",
        "train_accuracy = Log_Reg.score(X_train_DS,y_train_DS)\n",
        "print(\"Train accuracy = \", train_accuracy)\n",
        "\n",
        "test_accuracy = Log_Reg.score(X_test_DS,y_test_DS)\n",
        "print(\"Test accuracy = \", test_accuracy)"
      ],
      "metadata": {
        "colab": {
          "base_uri": "https://localhost:8080/"
        },
        "id": "6awPgJh_gMFu",
        "outputId": "2d157afa-e933-44af-ad1e-703e1dbae8a3"
      },
      "execution_count": null,
      "outputs": [
        {
          "output_type": "stream",
          "name": "stdout",
          "text": [
            "Train accuracy =  0.5442857142857143\n",
            "Test accuracy =  0.5433333333333333\n"
          ]
        }
      ]
    },
    {
      "cell_type": "markdown",
      "source": [
        "Getting the threshold values that maximizes Recall, F1 score and precision"
      ],
      "metadata": {
        "id": "aRmMKSITtk8G"
      }
    },
    {
      "cell_type": "code",
      "source": [
        "#obtaining predicted probabilities\n",
        "y_pred_prob = Log_Reg.predict_proba(X_test_DS)[:,1]\n",
        "\n",
        "# Computing precision, recall, and thresholds\n",
        "precision, recall, thresholds = precision_recall_curve(y_test_DS, y_pred_prob)\n",
        "\n",
        "# Finding the threshold that maximizes recall\n",
        "max_recall_threshold = thresholds[np.argmax(recall)]\n",
        "\n",
        "# Calculating F1 score for each threshold\n",
        "f1_scores = 2 * (precision*recall)/(precision+recall)\n",
        "\n",
        "#finding the threshold that maximizes F1 score\n",
        "max_f1_threshold = thresholds[np.argmax(f1_scores)]\n",
        "\n",
        "#finding the threshold that maximizes precision\n",
        "max_precision_threshold = thresholds[np.argmax(precision)]"
      ],
      "metadata": {
        "id": "0g34b5HWX3Ao"
      },
      "execution_count": null,
      "outputs": []
    },
    {
      "cell_type": "code",
      "source": [
        "print(\"Threshold value that maximizes the Precision:\", max_precision_threshold)\n",
        "print(\"Threshold value that maximizes the Recall:\", max_recall_threshold)\n",
        "print(\"Threshold value that maximizes the F1 score:\", max_f1_threshold)"
      ],
      "metadata": {
        "id": "uY-WM0MUqv6c",
        "outputId": "de5258e4-7d7d-48ca-c453-a957ed599ea2",
        "colab": {
          "base_uri": "https://localhost:8080/"
        }
      },
      "execution_count": null,
      "outputs": [
        {
          "output_type": "stream",
          "name": "stdout",
          "text": [
            "Threshold value that maximizes the Precision: 0.8784214068588907\n",
            "Threshold value that maximizes the Recall: 0.31198963640687505\n",
            "Threshold value that maximizes the F1 score: 0.31198963640687505\n"
          ]
        }
      ]
    },
    {
      "cell_type": "markdown",
      "source": [
        "#Classification of mobiles with respect to Price range"
      ],
      "metadata": {
        "id": "DFBqJC1XUToq"
      }
    },
    {
      "cell_type": "markdown",
      "source": [
        "Now, I going to predict the price of mobile with all other features."
      ],
      "metadata": {
        "id": "XRoP_oeEkzbF"
      }
    },
    {
      "cell_type": "code",
      "source": [
        "Mobile_data.tail()"
      ],
      "metadata": {
        "colab": {
          "base_uri": "https://localhost:8080/",
          "height": 299
        },
        "id": "9qjYLVkdl33z",
        "outputId": "87368f0d-f3c3-41c5-8530-4ff983b47b5f"
      },
      "execution_count": null,
      "outputs": [
        {
          "output_type": "execute_result",
          "data": {
            "text/plain": [
              "      battery_power  blue  clock_speed  dual_sim  fc  four_g  int_memory  \\\n",
              "1995            794     1          0.5         1   0       1           2   \n",
              "1996           1965     1          2.6         1   0       0          39   \n",
              "1997           1911     0          0.9         1   1       1          36   \n",
              "1998           1512     0          0.9         0   4       1          46   \n",
              "1999            510     1          2.0         1   5       1          45   \n",
              "\n",
              "      m_dep  mobile_wt  n_cores  ...  px_height  px_width    ram  sc_h  sc_w  \\\n",
              "1995    0.8        106        6  ...       1222      1890  0.668    13     4   \n",
              "1996    0.2        187        4  ...        915      1965  2.032    11    10   \n",
              "1997    0.7        108        8  ...        868      1632  3.057     9     1   \n",
              "1998    0.1        145        5  ...        336       670  0.869    18    10   \n",
              "1999    0.9        168        6  ...        483       754  3.919    19     4   \n",
              "\n",
              "      talk_time  three_g  touch_screen  wifi  price_range  \n",
              "1995         19        1             1     0            0  \n",
              "1996         16        1             1     1            2  \n",
              "1997          5        1             1     0            3  \n",
              "1998         19        1             1     1            0  \n",
              "1999          2        1             1     1            3  \n",
              "\n",
              "[5 rows x 21 columns]"
            ],
            "text/html": [
              "\n",
              "  <div id=\"df-72c6f8af-d298-4e9e-aaf8-6bf7cc01a655\">\n",
              "    <div class=\"colab-df-container\">\n",
              "      <div>\n",
              "<style scoped>\n",
              "    .dataframe tbody tr th:only-of-type {\n",
              "        vertical-align: middle;\n",
              "    }\n",
              "\n",
              "    .dataframe tbody tr th {\n",
              "        vertical-align: top;\n",
              "    }\n",
              "\n",
              "    .dataframe thead th {\n",
              "        text-align: right;\n",
              "    }\n",
              "</style>\n",
              "<table border=\"1\" class=\"dataframe\">\n",
              "  <thead>\n",
              "    <tr style=\"text-align: right;\">\n",
              "      <th></th>\n",
              "      <th>battery_power</th>\n",
              "      <th>blue</th>\n",
              "      <th>clock_speed</th>\n",
              "      <th>dual_sim</th>\n",
              "      <th>fc</th>\n",
              "      <th>four_g</th>\n",
              "      <th>int_memory</th>\n",
              "      <th>m_dep</th>\n",
              "      <th>mobile_wt</th>\n",
              "      <th>n_cores</th>\n",
              "      <th>...</th>\n",
              "      <th>px_height</th>\n",
              "      <th>px_width</th>\n",
              "      <th>ram</th>\n",
              "      <th>sc_h</th>\n",
              "      <th>sc_w</th>\n",
              "      <th>talk_time</th>\n",
              "      <th>three_g</th>\n",
              "      <th>touch_screen</th>\n",
              "      <th>wifi</th>\n",
              "      <th>price_range</th>\n",
              "    </tr>\n",
              "  </thead>\n",
              "  <tbody>\n",
              "    <tr>\n",
              "      <th>1995</th>\n",
              "      <td>794</td>\n",
              "      <td>1</td>\n",
              "      <td>0.5</td>\n",
              "      <td>1</td>\n",
              "      <td>0</td>\n",
              "      <td>1</td>\n",
              "      <td>2</td>\n",
              "      <td>0.8</td>\n",
              "      <td>106</td>\n",
              "      <td>6</td>\n",
              "      <td>...</td>\n",
              "      <td>1222</td>\n",
              "      <td>1890</td>\n",
              "      <td>0.668</td>\n",
              "      <td>13</td>\n",
              "      <td>4</td>\n",
              "      <td>19</td>\n",
              "      <td>1</td>\n",
              "      <td>1</td>\n",
              "      <td>0</td>\n",
              "      <td>0</td>\n",
              "    </tr>\n",
              "    <tr>\n",
              "      <th>1996</th>\n",
              "      <td>1965</td>\n",
              "      <td>1</td>\n",
              "      <td>2.6</td>\n",
              "      <td>1</td>\n",
              "      <td>0</td>\n",
              "      <td>0</td>\n",
              "      <td>39</td>\n",
              "      <td>0.2</td>\n",
              "      <td>187</td>\n",
              "      <td>4</td>\n",
              "      <td>...</td>\n",
              "      <td>915</td>\n",
              "      <td>1965</td>\n",
              "      <td>2.032</td>\n",
              "      <td>11</td>\n",
              "      <td>10</td>\n",
              "      <td>16</td>\n",
              "      <td>1</td>\n",
              "      <td>1</td>\n",
              "      <td>1</td>\n",
              "      <td>2</td>\n",
              "    </tr>\n",
              "    <tr>\n",
              "      <th>1997</th>\n",
              "      <td>1911</td>\n",
              "      <td>0</td>\n",
              "      <td>0.9</td>\n",
              "      <td>1</td>\n",
              "      <td>1</td>\n",
              "      <td>1</td>\n",
              "      <td>36</td>\n",
              "      <td>0.7</td>\n",
              "      <td>108</td>\n",
              "      <td>8</td>\n",
              "      <td>...</td>\n",
              "      <td>868</td>\n",
              "      <td>1632</td>\n",
              "      <td>3.057</td>\n",
              "      <td>9</td>\n",
              "      <td>1</td>\n",
              "      <td>5</td>\n",
              "      <td>1</td>\n",
              "      <td>1</td>\n",
              "      <td>0</td>\n",
              "      <td>3</td>\n",
              "    </tr>\n",
              "    <tr>\n",
              "      <th>1998</th>\n",
              "      <td>1512</td>\n",
              "      <td>0</td>\n",
              "      <td>0.9</td>\n",
              "      <td>0</td>\n",
              "      <td>4</td>\n",
              "      <td>1</td>\n",
              "      <td>46</td>\n",
              "      <td>0.1</td>\n",
              "      <td>145</td>\n",
              "      <td>5</td>\n",
              "      <td>...</td>\n",
              "      <td>336</td>\n",
              "      <td>670</td>\n",
              "      <td>0.869</td>\n",
              "      <td>18</td>\n",
              "      <td>10</td>\n",
              "      <td>19</td>\n",
              "      <td>1</td>\n",
              "      <td>1</td>\n",
              "      <td>1</td>\n",
              "      <td>0</td>\n",
              "    </tr>\n",
              "    <tr>\n",
              "      <th>1999</th>\n",
              "      <td>510</td>\n",
              "      <td>1</td>\n",
              "      <td>2.0</td>\n",
              "      <td>1</td>\n",
              "      <td>5</td>\n",
              "      <td>1</td>\n",
              "      <td>45</td>\n",
              "      <td>0.9</td>\n",
              "      <td>168</td>\n",
              "      <td>6</td>\n",
              "      <td>...</td>\n",
              "      <td>483</td>\n",
              "      <td>754</td>\n",
              "      <td>3.919</td>\n",
              "      <td>19</td>\n",
              "      <td>4</td>\n",
              "      <td>2</td>\n",
              "      <td>1</td>\n",
              "      <td>1</td>\n",
              "      <td>1</td>\n",
              "      <td>3</td>\n",
              "    </tr>\n",
              "  </tbody>\n",
              "</table>\n",
              "<p>5 rows × 21 columns</p>\n",
              "</div>\n",
              "      <button class=\"colab-df-convert\" onclick=\"convertToInteractive('df-72c6f8af-d298-4e9e-aaf8-6bf7cc01a655')\"\n",
              "              title=\"Convert this dataframe to an interactive table.\"\n",
              "              style=\"display:none;\">\n",
              "        \n",
              "  <svg xmlns=\"http://www.w3.org/2000/svg\" height=\"24px\"viewBox=\"0 0 24 24\"\n",
              "       width=\"24px\">\n",
              "    <path d=\"M0 0h24v24H0V0z\" fill=\"none\"/>\n",
              "    <path d=\"M18.56 5.44l.94 2.06.94-2.06 2.06-.94-2.06-.94-.94-2.06-.94 2.06-2.06.94zm-11 1L8.5 8.5l.94-2.06 2.06-.94-2.06-.94L8.5 2.5l-.94 2.06-2.06.94zm10 10l.94 2.06.94-2.06 2.06-.94-2.06-.94-.94-2.06-.94 2.06-2.06.94z\"/><path d=\"M17.41 7.96l-1.37-1.37c-.4-.4-.92-.59-1.43-.59-.52 0-1.04.2-1.43.59L10.3 9.45l-7.72 7.72c-.78.78-.78 2.05 0 2.83L4 21.41c.39.39.9.59 1.41.59.51 0 1.02-.2 1.41-.59l7.78-7.78 2.81-2.81c.8-.78.8-2.07 0-2.86zM5.41 20L4 18.59l7.72-7.72 1.47 1.35L5.41 20z\"/>\n",
              "  </svg>\n",
              "      </button>\n",
              "      \n",
              "  <style>\n",
              "    .colab-df-container {\n",
              "      display:flex;\n",
              "      flex-wrap:wrap;\n",
              "      gap: 12px;\n",
              "    }\n",
              "\n",
              "    .colab-df-convert {\n",
              "      background-color: #E8F0FE;\n",
              "      border: none;\n",
              "      border-radius: 50%;\n",
              "      cursor: pointer;\n",
              "      display: none;\n",
              "      fill: #1967D2;\n",
              "      height: 32px;\n",
              "      padding: 0 0 0 0;\n",
              "      width: 32px;\n",
              "    }\n",
              "\n",
              "    .colab-df-convert:hover {\n",
              "      background-color: #E2EBFA;\n",
              "      box-shadow: 0px 1px 2px rgba(60, 64, 67, 0.3), 0px 1px 3px 1px rgba(60, 64, 67, 0.15);\n",
              "      fill: #174EA6;\n",
              "    }\n",
              "\n",
              "    [theme=dark] .colab-df-convert {\n",
              "      background-color: #3B4455;\n",
              "      fill: #D2E3FC;\n",
              "    }\n",
              "\n",
              "    [theme=dark] .colab-df-convert:hover {\n",
              "      background-color: #434B5C;\n",
              "      box-shadow: 0px 1px 3px 1px rgba(0, 0, 0, 0.15);\n",
              "      filter: drop-shadow(0px 1px 2px rgba(0, 0, 0, 0.3));\n",
              "      fill: #FFFFFF;\n",
              "    }\n",
              "  </style>\n",
              "\n",
              "      <script>\n",
              "        const buttonEl =\n",
              "          document.querySelector('#df-72c6f8af-d298-4e9e-aaf8-6bf7cc01a655 button.colab-df-convert');\n",
              "        buttonEl.style.display =\n",
              "          google.colab.kernel.accessAllowed ? 'block' : 'none';\n",
              "\n",
              "        async function convertToInteractive(key) {\n",
              "          const element = document.querySelector('#df-72c6f8af-d298-4e9e-aaf8-6bf7cc01a655');\n",
              "          const dataTable =\n",
              "            await google.colab.kernel.invokeFunction('convertToInteractive',\n",
              "                                                     [key], {});\n",
              "          if (!dataTable) return;\n",
              "\n",
              "          const docLinkHtml = 'Like what you see? Visit the ' +\n",
              "            '<a target=\"_blank\" href=https://colab.research.google.com/notebooks/data_table.ipynb>data table notebook</a>'\n",
              "            + ' to learn more about interactive tables.';\n",
              "          element.innerHTML = '';\n",
              "          dataTable['output_type'] = 'display_data';\n",
              "          await google.colab.output.renderOutput(dataTable, element);\n",
              "          const docLink = document.createElement('div');\n",
              "          docLink.innerHTML = docLinkHtml;\n",
              "          element.appendChild(docLink);\n",
              "        }\n",
              "      </script>\n",
              "    </div>\n",
              "  </div>\n",
              "  "
            ]
          },
          "metadata": {},
          "execution_count": 33
        }
      ]
    },
    {
      "cell_type": "code",
      "source": [
        "# Visualize number of price range values in dataset\n",
        "plt.figure(figsize=(15,5))\n",
        "\n",
        "# Create bar plot showing count of price range value\n",
        "plt.subplot(1, 2, 1)\n",
        "sns.countplot(x = \"price_range\", data = Mobile_data, palette = \"Set1\")\n",
        "plt.title(\"Number of Price Range\")\n",
        "\n",
        "# Create pie chart showing proportion of price range value\n",
        "plt.subplot(1, 2, 2)\n",
        "plt.pie(Mobile_data[\"price_range\"].value_counts(), labels = [\"low cost\", \"medium cost\",\"high cost\",\"very high cost\"], shadow = True, autopct = \"%1.1f%%\", colors = [\"#C8C3C4\",  \"#8E6897\"])\n"
      ],
      "metadata": {
        "colab": {
          "base_uri": "https://localhost:8080/",
          "height": 706
        },
        "id": "MAJo2vg2l-IL",
        "outputId": "8a56e707-98cb-43b7-95f0-806a8e9e154b"
      },
      "execution_count": null,
      "outputs": [
        {
          "output_type": "execute_result",
          "data": {
            "text/plain": [
              "([<matplotlib.patches.Wedge at 0x7f05f07d0760>,\n",
              "  <matplotlib.patches.Wedge at 0x7f05f096af20>,\n",
              "  <matplotlib.patches.Wedge at 0x7f05f096ac80>,\n",
              "  <matplotlib.patches.Wedge at 0x7f05f07d20e0>],\n",
              " [Text(0.7778174593052024, 0.7778174593052023, 'low cost'),\n",
              "  Text(-0.7778174593052023, 0.7778174593052024, 'medium cost'),\n",
              "  Text(-0.7778174593052025, -0.7778174593052023, 'high cost'),\n",
              "  Text(0.7778174593052022, -0.7778174593052025, 'very high cost')],\n",
              " [Text(0.4242640687119285, 0.42426406871192845, '25.0%'),\n",
              "  Text(-0.42426406871192845, 0.4242640687119285, '25.0%'),\n",
              "  Text(-0.4242640687119286, -0.42426406871192845, '25.0%'),\n",
              "  Text(0.4242640687119284, -0.4242640687119286, '25.0%')])"
            ]
          },
          "metadata": {},
          "execution_count": 34
        },
        {
          "output_type": "display_data",
          "data": {
            "text/plain": [
              "<Figure size 1500x500 with 2 Axes>"
            ],
            "image/png": "[encoded data removed]"
          },
          "metadata": {}
        }
      ]
    },
    {
      "cell_type": "markdown",
      "source": [
        "Mobile phones are evenly divided into 4 price range classes with equal frequency. Therefore, the dataset is completely balanced.\n",
        "\n"
      ],
      "metadata": {
        "id": "8DqEDFOZiUUH"
      }
    },
    {
      "cell_type": "code",
      "source": [
        "# Create variables\n",
        "X = Mobile_data.drop([\"price_range\"], axis=1)\n",
        "y = Mobile_data[\"price_range\"].values"
      ],
      "metadata": {
        "id": "Lx3Hf5OKSoGe"
      },
      "execution_count": null,
      "outputs": []
    },
    {
      "cell_type": "code",
      "source": [
        "# Create a SelectKBest object with f_classif as the scoring function and k=25 as the number of top features to select\n",
        "selector = SelectKBest(score_func=f_classif, k =20)\n",
        "\n",
        "# Reshape your feature matrix (if necessary)\n",
        "X_new = selector.fit_transform(X, y)\n",
        "\n",
        "# Get the indices of the selected features\n",
        "selected_features = selector.get_support(indices=True)\n",
        "\n",
        "# Print the names of the selected features\n",
        "print(X.columns[selected_features])\n",
        "\n",
        "# Create a new DataFrame with only the selected features\n",
        "X_new_df = pd.DataFrame(X_new, columns=X.columns[selected_features])"
      ],
      "metadata": {
        "colab": {
          "base_uri": "https://localhost:8080/"
        },
        "id": "FHN0Qgb2IBzm",
        "outputId": "36c538a0-caab-450b-d432-c98f12a8f052"
      },
      "execution_count": null,
      "outputs": [
        {
          "output_type": "stream",
          "name": "stdout",
          "text": [
            "Index(['battery_power', 'blue', 'clock_speed', 'dual_sim', 'fc', 'four_g',\n",
            "       'int_memory', 'm_dep', 'mobile_wt', 'n_cores', 'pc', 'px_height',\n",
            "       'px_width', 'ram', 'sc_h', 'sc_w', 'talk_time', 'three_g',\n",
            "       'touch_screen', 'wifi'],\n",
            "      dtype='object')\n"
          ]
        }
      ]
    },
    {
      "cell_type": "code",
      "source": [
        "# Split dataset into training and testing data\n",
        "X_train, X_test, y_train, y_test = train_test_split(X_new_df, y, test_size = 0.3, random_state = 128) # %70 train data, %30 test data\n",
        "\n",
        "# Print lengths of training and testing datasets for each feature and target variable\n",
        "print(\"X_train: \",len(X_train))\n",
        "print(\"X_test: \",len(X_test))\n",
        "print(\"y_train: \",len(y_train))\n",
        "print(\"y_test: \",len(y_test))"
      ],
      "metadata": {
        "colab": {
          "base_uri": "https://localhost:8080/"
        },
        "id": "vCYx9IjllSn-",
        "outputId": "a62aef94-2908-4892-ac07-c6516aaea6ab"
      },
      "execution_count": null,
      "outputs": [
        {
          "output_type": "stream",
          "name": "stdout",
          "text": [
            "X_train:  1400\n",
            "X_test:  600\n",
            "y_train:  1400\n",
            "y_test:  600\n"
          ]
        }
      ]
    },
    {
      "cell_type": "markdown",
      "source": [
        "###Random Forest Classifier"
      ],
      "metadata": {
        "id": "ihs_AfnwqsUN"
      }
    },
    {
      "cell_type": "code",
      "source": [
        "Random_class = RandomForestClassifier(max_depth=2, random_state=0)\n",
        "Random_class.fit(X_train,y_train)"
      ],
      "metadata": {
        "id": "iA0eeuEQlgZD",
        "colab": {
          "base_uri": "https://localhost:8080/",
          "height": 74
        },
        "outputId": "34a5fee5-b5bb-42c1-e0b4-5fda18599d9b"
      },
      "execution_count": null,
      "outputs": [
        {
          "output_type": "execute_result",
          "data": {
            "text/plain": [
              "RandomForestClassifier(max_depth=2, random_state=0)"
            ],
            "text/html": [
              "<style>#sk-container-id-5 {color: black;background-color: white;}#sk-container-id-5 pre{padding: 0;}#sk-container-id-5 div.sk-toggleable {background-color: white;}#sk-container-id-5 label.sk-toggleable__label {cursor: pointer;display: block;width: 100%;margin-bottom: 0;padding: 0.3em;box-sizing: border-box;text-align: center;}#sk-container-id-5 label.sk-toggleable__label-arrow:before {content: \"▸\";float: left;margin-right: 0.25em;color: #696969;}#sk-container-id-5 label.sk-toggleable__label-arrow:hover:before {color: black;}#sk-container-id-5 div.sk-estimator:hover label.sk-toggleable__label-arrow:before {color: black;}#sk-container-id-5 div.sk-toggleable__content {max-height: 0;max-width: 0;overflow: hidden;text-align: left;background-color: #f0f8ff;}#sk-container-id-5 div.sk-toggleable__content pre {margin: 0.2em;color: black;border-radius: 0.25em;background-color: #f0f8ff;}#sk-container-id-5 input.sk-toggleable__control:checked~div.sk-toggleable__content {max-height: 200px;max-width: 100%;overflow: auto;}#sk-container-id-5 input.sk-toggleable__control:checked~label.sk-toggleable__label-arrow:before {content: \"▾\";}#sk-container-id-5 div.sk-estimator input.sk-toggleable__control:checked~label.sk-toggleable__label {background-color: #d4ebff;}#sk-container-id-5 div.sk-label input.sk-toggleable__control:checked~label.sk-toggleable__label {background-color: #d4ebff;}#sk-container-id-5 input.sk-hidden--visually {border: 0;clip: rect(1px 1px 1px 1px);clip: rect(1px, 1px, 1px, 1px);height: 1px;margin: -1px;overflow: hidden;padding: 0;position: absolute;width: 1px;}#sk-container-id-5 div.sk-estimator {font-family: monospace;background-color: #f0f8ff;border: 1px dotted black;border-radius: 0.25em;box-sizing: border-box;margin-bottom: 0.5em;}#sk-container-id-5 div.sk-estimator:hover {background-color: #d4ebff;}#sk-container-id-5 div.sk-parallel-item::after {content: \"\";width: 100%;border-bottom: 1px solid gray;flex-grow: 1;}#sk-container-id-5 div.sk-label:hover label.sk-toggleable__label {background-color: #d4ebff;}#sk-container-id-5 div.sk-serial::before {content: \"\";position: absolute;border-left: 1px solid gray;box-sizing: border-box;top: 0;bottom: 0;left: 50%;z-index: 0;}#sk-container-id-5 div.sk-serial {display: flex;flex-direction: column;align-items: center;background-color: white;padding-right: 0.2em;padding-left: 0.2em;position: relative;}#sk-container-id-5 div.sk-item {position: relative;z-index: 1;}#sk-container-id-5 div.sk-parallel {display: flex;align-items: stretch;justify-content: center;background-color: white;position: relative;}#sk-container-id-5 div.sk-item::before, #sk-container-id-5 div.sk-parallel-item::before {content: \"\";position: absolute;border-left: 1px solid gray;box-sizing: border-box;top: 0;bottom: 0;left: 50%;z-index: -1;}#sk-container-id-5 div.sk-parallel-item {display: flex;flex-direction: column;z-index: 1;position: relative;background-color: white;}#sk-container-id-5 div.sk-parallel-item:first-child::after {align-self: flex-end;width: 50%;}#sk-container-id-5 div.sk-parallel-item:last-child::after {align-self: flex-start;width: 50%;}#sk-container-id-5 div.sk-parallel-item:only-child::after {width: 0;}#sk-container-id-5 div.sk-dashed-wrapped {border: 1px dashed gray;margin: 0 0.4em 0.5em 0.4em;box-sizing: border-box;padding-bottom: 0.4em;background-color: white;}#sk-container-id-5 div.sk-label label {font-family: monospace;font-weight: bold;display: inline-block;line-height: 1.2em;}#sk-container-id-5 div.sk-label-container {text-align: center;}#sk-container-id-5 div.sk-container {/* jupyter's `normalize.less` sets `[hidden] { display: none; }` but bootstrap.min.css set `[hidden] { display: none !important; }` so we also need the `!important` here to be able to override the default hidden behavior on the sphinx rendered scikit-learn.org. See: https://github.com/scikit-learn/scikit-learn/issues/21755 */display: inline-block !important;position: relative;}#sk-container-id-5 div.sk-text-repr-fallback {display: none;}</style><div id=\"sk-container-id-5\" class=\"sk-top-container\"><div class=\"sk-text-repr-fallback\"><pre>RandomForestClassifier(max_depth=2, random_state=0)</pre><b>In a Jupyter environment, please rerun this cell to show the HTML representation or trust the notebook. <br />On GitHub, the HTML representation is unable to render, please try loading this page with nbviewer.org.</b></div><div class=\"sk-container\" hidden><div class=\"sk-item\"><div class=\"sk-estimator sk-toggleable\"><input class=\"sk-toggleable__control sk-hidden--visually\" id=\"sk-estimator-id-5\" type=\"checkbox\" checked><label for=\"sk-estimator-id-5\" class=\"sk-toggleable__label sk-toggleable__label-arrow\">RandomForestClassifier</label><div class=\"sk-toggleable__content\"><pre>RandomForestClassifier(max_depth=2, random_state=0)</pre></div></div></div></div></div>"
            ]
          },
          "metadata": {},
          "execution_count": 38
        }
      ]
    },
    {
      "cell_type": "code",
      "source": [
        "#predicting targets based on the model built\n",
        "train_predictions_RC = Random_class.predict(X_train)\n",
        "test_predictions_RC = Random_class.predict(X_test)"
      ],
      "metadata": {
        "id": "C8Mp1Ikim20s"
      },
      "execution_count": null,
      "outputs": []
    },
    {
      "cell_type": "code",
      "source": [
        "# Generating the report and printing the same\n",
        "print(classification_report(y_test,test_predictions_RC))"
      ],
      "metadata": {
        "colab": {
          "base_uri": "https://localhost:8080/"
        },
        "id": "Qt_JLGcTnIr0",
        "outputId": "59e49056-573b-4f7d-d4ce-20626cd5aa68"
      },
      "execution_count": null,
      "outputs": [
        {
          "output_type": "stream",
          "name": "stdout",
          "text": [
            "              precision    recall  f1-score   support\n",
            "\n",
            "           0       0.64      0.97      0.77       146\n",
            "           1       0.64      0.36      0.46       168\n",
            "           2       0.65      0.50      0.57       143\n",
            "           3       0.77      0.92      0.83       143\n",
            "\n",
            "    accuracy                           0.68       600\n",
            "   macro avg       0.67      0.69      0.66       600\n",
            "weighted avg       0.67      0.68      0.65       600\n",
            "\n"
          ]
        }
      ]
    },
    {
      "cell_type": "markdown",
      "source": [
        "Now, Trying improve the Accuracy using cross validation\n",
        "\n"
      ],
      "metadata": {
        "id": "mwSFmcyzqbRy"
      }
    },
    {
      "cell_type": "code",
      "source": [
        "rf_parm = dict(n_estimators = [20, 30, 50, 70, 100, 150], max_features = [0.1, 0.2, 0.6, 0.9], max_depth = [10,20,30],min_samples_leaf=[1,10,100, 400, 500, 600],random_state=[0])\n",
        "\n",
        "rc = RandomForestClassifier()\n",
        "rf_grid = GridSearchCV(estimator = rc, param_grid = rf_parm)\n",
        "\n",
        "rf_grid.fit(X_train,y_train)\n",
        "\n",
        "print(\"RF Best Score:\", rf_grid.best_score_)\n",
        "print(\"RF Best Parameters:\", rf_grid.best_params_)"
      ],
      "metadata": {
        "colab": {
          "base_uri": "https://localhost:8080/"
        },
        "id": "Dog4Tlkgo4kD",
        "outputId": "70695b6f-fcc7-42e9-bc38-f3e55b2f1c96"
      },
      "execution_count": null,
      "outputs": [
        {
          "output_type": "stream",
          "name": "stdout",
          "text": [
            "RF Best Score: 0.9028571428571428\n",
            "RF Best Parameters: {'max_depth': 20, 'max_features': 0.6, 'min_samples_leaf': 1, 'n_estimators': 150, 'random_state': 0}\n"
          ]
        }
      ]
    },
    {
      "cell_type": "code",
      "source": [
        "RC_best = RandomForestClassifier(n_estimators = 150,  max_features = 0.6, min_samples_leaf = 1, max_depth = 20, random_state = 0 )\n",
        "\n",
        "RC_best.fit(X_train, y_train)\n"
      ],
      "metadata": {
        "colab": {
          "base_uri": "https://localhost:8080/",
          "height": 92
        },
        "id": "J9x1J6rpsu6S",
        "outputId": "bd76a0c0-37cf-42c4-bcf6-8a00a91ba5cb"
      },
      "execution_count": null,
      "outputs": [
        {
          "output_type": "execute_result",
          "data": {
            "text/plain": [
              "RandomForestClassifier(max_depth=20, max_features=0.6, n_estimators=150,\n",
              "                       random_state=0)"
            ],
            "text/html": [
              "<style>#sk-container-id-6 {color: black;background-color: white;}#sk-container-id-6 pre{padding: 0;}#sk-container-id-6 div.sk-toggleable {background-color: white;}#sk-container-id-6 label.sk-toggleable__label {cursor: pointer;display: block;width: 100%;margin-bottom: 0;padding: 0.3em;box-sizing: border-box;text-align: center;}#sk-container-id-6 label.sk-toggleable__label-arrow:before {content: \"▸\";float: left;margin-right: 0.25em;color: #696969;}#sk-container-id-6 label.sk-toggleable__label-arrow:hover:before {color: black;}#sk-container-id-6 div.sk-estimator:hover label.sk-toggleable__label-arrow:before {color: black;}#sk-container-id-6 div.sk-toggleable__content {max-height: 0;max-width: 0;overflow: hidden;text-align: left;background-color: #f0f8ff;}#sk-container-id-6 div.sk-toggleable__content pre {margin: 0.2em;color: black;border-radius: 0.25em;background-color: #f0f8ff;}#sk-container-id-6 input.sk-toggleable__control:checked~div.sk-toggleable__content {max-height: 200px;max-width: 100%;overflow: auto;}#sk-container-id-6 input.sk-toggleable__control:checked~label.sk-toggleable__label-arrow:before {content: \"▾\";}#sk-container-id-6 div.sk-estimator input.sk-toggleable__control:checked~label.sk-toggleable__label {background-color: #d4ebff;}#sk-container-id-6 div.sk-label input.sk-toggleable__control:checked~label.sk-toggleable__label {background-color: #d4ebff;}#sk-container-id-6 input.sk-hidden--visually {border: 0;clip: rect(1px 1px 1px 1px);clip: rect(1px, 1px, 1px, 1px);height: 1px;margin: -1px;overflow: hidden;padding: 0;position: absolute;width: 1px;}#sk-container-id-6 div.sk-estimator {font-family: monospace;background-color: #f0f8ff;border: 1px dotted black;border-radius: 0.25em;box-sizing: border-box;margin-bottom: 0.5em;}#sk-container-id-6 div.sk-estimator:hover {background-color: #d4ebff;}#sk-container-id-6 div.sk-parallel-item::after {content: \"\";width: 100%;border-bottom: 1px solid gray;flex-grow: 1;}#sk-container-id-6 div.sk-label:hover label.sk-toggleable__label {background-color: #d4ebff;}#sk-container-id-6 div.sk-serial::before {content: \"\";position: absolute;border-left: 1px solid gray;box-sizing: border-box;top: 0;bottom: 0;left: 50%;z-index: 0;}#sk-container-id-6 div.sk-serial {display: flex;flex-direction: column;align-items: center;background-color: white;padding-right: 0.2em;padding-left: 0.2em;position: relative;}#sk-container-id-6 div.sk-item {position: relative;z-index: 1;}#sk-container-id-6 div.sk-parallel {display: flex;align-items: stretch;justify-content: center;background-color: white;position: relative;}#sk-container-id-6 div.sk-item::before, #sk-container-id-6 div.sk-parallel-item::before {content: \"\";position: absolute;border-left: 1px solid gray;box-sizing: border-box;top: 0;bottom: 0;left: 50%;z-index: -1;}#sk-container-id-6 div.sk-parallel-item {display: flex;flex-direction: column;z-index: 1;position: relative;background-color: white;}#sk-container-id-6 div.sk-parallel-item:first-child::after {align-self: flex-end;width: 50%;}#sk-container-id-6 div.sk-parallel-item:last-child::after {align-self: flex-start;width: 50%;}#sk-container-id-6 div.sk-parallel-item:only-child::after {width: 0;}#sk-container-id-6 div.sk-dashed-wrapped {border: 1px dashed gray;margin: 0 0.4em 0.5em 0.4em;box-sizing: border-box;padding-bottom: 0.4em;background-color: white;}#sk-container-id-6 div.sk-label label {font-family: monospace;font-weight: bold;display: inline-block;line-height: 1.2em;}#sk-container-id-6 div.sk-label-container {text-align: center;}#sk-container-id-6 div.sk-container {/* jupyter's `normalize.less` sets `[hidden] { display: none; }` but bootstrap.min.css set `[hidden] { display: none !important; }` so we also need the `!important` here to be able to override the default hidden behavior on the sphinx rendered scikit-learn.org. See: https://github.com/scikit-learn/scikit-learn/issues/21755 */display: inline-block !important;position: relative;}#sk-container-id-6 div.sk-text-repr-fallback {display: none;}</style><div id=\"sk-container-id-6\" class=\"sk-top-container\"><div class=\"sk-text-repr-fallback\"><pre>RandomForestClassifier(max_depth=20, max_features=0.6, n_estimators=150,\n",
              "                       random_state=0)</pre><b>In a Jupyter environment, please rerun this cell to show the HTML representation or trust the notebook. <br />On GitHub, the HTML representation is unable to render, please try loading this page with nbviewer.org.</b></div><div class=\"sk-container\" hidden><div class=\"sk-item\"><div class=\"sk-estimator sk-toggleable\"><input class=\"sk-toggleable__control sk-hidden--visually\" id=\"sk-estimator-id-6\" type=\"checkbox\" checked><label for=\"sk-estimator-id-6\" class=\"sk-toggleable__label sk-toggleable__label-arrow\">RandomForestClassifier</label><div class=\"sk-toggleable__content\"><pre>RandomForestClassifier(max_depth=20, max_features=0.6, n_estimators=150,\n",
              "                       random_state=0)</pre></div></div></div></div></div>"
            ]
          },
          "metadata": {},
          "execution_count": 42
        }
      ]
    },
    {
      "cell_type": "code",
      "source": [
        "#predicting targets based on the model built\n",
        "train_predictions_RC_best = RC_best.predict(X_train)\n",
        "test_predictions_RC_best = RC_best.predict(X_test)"
      ],
      "metadata": {
        "id": "nLvkZI5S1r2N"
      },
      "execution_count": null,
      "outputs": []
    },
    {
      "cell_type": "code",
      "source": [
        "RC_best.score(X_test,y_test)"
      ],
      "metadata": {
        "colab": {
          "base_uri": "https://localhost:8080/"
        },
        "id": "uH2s24QV3IIV",
        "outputId": "34a0cc45-4b12-414a-943e-9e1d1631f4f4"
      },
      "execution_count": null,
      "outputs": [
        {
          "output_type": "execute_result",
          "data": {
            "text/plain": [
              "0.8933333333333333"
            ]
          },
          "metadata": {},
          "execution_count": 44
        }
      ]
    },
    {
      "cell_type": "code",
      "source": [
        "# Generating the report and printing the same\n",
        "print(classification_report(y_test,test_predictions_RC_best))"
      ],
      "metadata": {
        "colab": {
          "base_uri": "https://localhost:8080/"
        },
        "id": "BmYBPX3lrZkG",
        "outputId": "902dcca4-c845-4672-ea66-c43b694b8dd2"
      },
      "execution_count": null,
      "outputs": [
        {
          "output_type": "stream",
          "name": "stdout",
          "text": [
            "              precision    recall  f1-score   support\n",
            "\n",
            "           0       0.93      0.95      0.94       146\n",
            "           1       0.88      0.88      0.88       168\n",
            "           2       0.85      0.82      0.84       143\n",
            "           3       0.91      0.94      0.92       143\n",
            "\n",
            "    accuracy                           0.89       600\n",
            "   macro avg       0.89      0.89      0.89       600\n",
            "weighted avg       0.89      0.89      0.89       600\n",
            "\n"
          ]
        }
      ]
    },
    {
      "cell_type": "markdown",
      "source": [
        "After Cross validation, The accuracy of Random Forest is 89%. Accuracy is increased by 20% by hyperparameter tuning."
      ],
      "metadata": {
        "id": "los5LsWS2lEt"
      }
    },
    {
      "cell_type": "markdown",
      "source": [
        "###Building Multiple models and checking which is better along with hyperparameter tuning."
      ],
      "metadata": {
        "id": "jTHSzNTx3pbT"
      }
    },
    {
      "cell_type": "code",
      "source": [
        "# Set the random seed\n",
        "random_state = 128\n",
        "\n",
        "# Define the machine learning models\n",
        "model = [LogisticRegression(random_state = random_state),\n",
        "         DecisionTreeClassifier(random_state = random_state),\n",
        "         SVC(random_state = random_state, probability=True),\n",
        "         KNeighborsClassifier(),\n",
        "         GaussianNB()]\n",
        "\n",
        "# Define the list of class names\n",
        "model_names = [\"LogisticRegression\",\n",
        "               \"DecisionTreeClassifier\",\n",
        "               \"SVM\",\n",
        "               \"KNeighborsClassifier\",\n",
        "               \"NaiveBayes\"]\n",
        "\n",
        "# Define the hyperparameter grids for each model\n",
        "lr_params = {\"C\": [0.1, 0.3, 0.5, 0.7, 0.9, 1.0, 1.5, 2],\n",
        "             \"penalty\": [\"l1\", \"l2\", \"elasticnet\"],\n",
        "             \"solver\": [\"liblinear\"]}\n",
        "\n",
        "dt_params = {\"min_samples_split\" : range(1,20,1),\n",
        "             \"max_depth\": range(1,20,1)}\n",
        "\n",
        "svm_params = {\"kernel\" : [\"rbf\"],\n",
        "              \"gamma\": [0.001, 0.01, 0.1],\n",
        "              \"C\": [1,10,50,100,200]}\n",
        "\n",
        "knn_params = {\"n_neighbors\": [30,35,40,45,50,60,70,80],\n",
        "              \"weights\": [\"uniform\",\"distance\"],\n",
        "              \"metric\":[\"euclidean\",\"manhattan\"]}\n",
        "\n",
        "nb_params = {\"var_smoothing\": np.logspace(0,-9, num=100)}\n",
        "\n",
        "# Define a list of hyperparameter grids\n",
        "param_grids = [lr_params,\n",
        "               dt_params,\n",
        "               svm_params,\n",
        "               knn_params,\n",
        "               nb_params]"
      ],
      "metadata": {
        "id": "kbLN7Rkv3fWb"
      },
      "execution_count": null,
      "outputs": []
    },
    {
      "cell_type": "code",
      "source": [
        "# Define two list to store the results and estimators\n",
        "cv_result = []\n",
        "best_estimators = []\n",
        "\n",
        "# Iterate over the models and their hyperparameter grids\n",
        "for i in range(len(model)):\n",
        "\n",
        "    # Define the stratified K-fold cross-validation scheme\n",
        "    cv = StratifiedKFold(n_splits = 10)\n",
        "\n",
        "    # Define the grid search strategy\n",
        "    clf = GridSearchCV(model[i],\n",
        "                       param_grid=param_grids[i],\n",
        "                       cv = cv,\n",
        "                       scoring = \"accuracy\",\n",
        "                       n_jobs = -1,\n",
        "                       verbose = 1)\n",
        "\n",
        "    # Print the cross validation score, best parameters and the train and test accuracy of the model\n",
        "    clf.fit(X_train,y_train)\n",
        "    cv_result.append(clf.best_score_)\n",
        "    best_estimators.append(clf.best_estimator_)\n",
        "\n",
        "    print(\"Machine Learning Models:\", model_names[i])\n",
        "    print(\"Cross Validation Scores:\", cv_result[i])\n",
        "    print(\"Best Parameters:\", best_estimators[i])\n",
        "    print(\"\\n-----------------------------------------------------\\n\")\n",
        "\n",
        "    print(\"Train Accuracy of Classifier: \", accuracy_score(clf.predict(X_train),y_train))\n",
        "    print(\"Test Accuracy of Classifier: \", accuracy_score(clf.predict(X_test),y_test))\n",
        "    print(\"\\n-----------------------------------------------------\\n\")\n",
        "\n",
        "    # Print the classification report\n",
        "    print(\"Classification Report: \\n\", classification_report(y_test, clf.predict(X_test)))\n",
        "    print(\"\\n-----------------------------------------------------\\n\")"
      ],
      "metadata": {
        "colab": {
          "base_uri": "https://localhost:8080/"
        },
        "id": "M246aGLH4JsW",
        "outputId": "bfb3c4ee-2c31-4cc3-f690-4267031536b3"
      },
      "execution_count": null,
      "outputs": [
        {
          "output_type": "stream",
          "name": "stdout",
          "text": [
            "Fitting 10 folds for each of 24 candidates, totalling 240 fits\n",
            "Machine Learning Models: LogisticRegression\n",
            "Cross Validation Scores: 0.8507142857142856\n",
            "Best Parameters: LogisticRegression(C=2, penalty='l1', random_state=128, solver='liblinear')\n",
            "\n",
            "-----------------------------------------------------\n",
            "\n",
            "Train Accuracy of Classifier:  0.8721428571428571\n",
            "Test Accuracy of Classifier:  0.8316666666666667\n",
            "\n",
            "-----------------------------------------------------\n",
            "\n",
            "Classification Report: \n",
            "               precision    recall  f1-score   support\n",
            "\n",
            "           0       0.95      0.98      0.97       146\n",
            "           1       0.78      0.64      0.70       168\n",
            "           2       0.66      0.73      0.70       143\n",
            "           3       0.93      1.00      0.97       143\n",
            "\n",
            "    accuracy                           0.83       600\n",
            "   macro avg       0.83      0.84      0.83       600\n",
            "weighted avg       0.83      0.83      0.83       600\n",
            "\n",
            "\n",
            "-----------------------------------------------------\n",
            "\n",
            "Fitting 10 folds for each of 361 candidates, totalling 3610 fits\n",
            "Machine Learning Models: DecisionTreeClassifier\n",
            "Cross Validation Scores: 0.8407142857142859\n",
            "Best Parameters: DecisionTreeClassifier(max_depth=11, min_samples_split=11, random_state=128)\n",
            "\n",
            "-----------------------------------------------------\n",
            "\n",
            "Train Accuracy of Classifier:  0.9535714285714286\n",
            "Test Accuracy of Classifier:  0.8066666666666666\n",
            "\n",
            "-----------------------------------------------------\n",
            "\n",
            "Classification Report: \n",
            "               precision    recall  f1-score   support\n",
            "\n",
            "           0       0.86      0.86      0.86       146\n",
            "           1       0.80      0.75      0.77       168\n",
            "           2       0.73      0.76      0.74       143\n",
            "           3       0.84      0.87      0.85       143\n",
            "\n",
            "    accuracy                           0.81       600\n",
            "   macro avg       0.81      0.81      0.81       600\n",
            "weighted avg       0.81      0.81      0.81       600\n",
            "\n",
            "\n",
            "-----------------------------------------------------\n",
            "\n",
            "Fitting 10 folds for each of 15 candidates, totalling 150 fits\n",
            "Machine Learning Models: SVM\n",
            "Cross Validation Scores: 0.26857142857142857\n",
            "Best Parameters: SVC(C=10, gamma=0.001, probability=True, random_state=128)\n",
            "\n",
            "-----------------------------------------------------\n",
            "\n",
            "Train Accuracy of Classifier:  1.0\n",
            "Test Accuracy of Classifier:  0.25666666666666665\n",
            "\n",
            "-----------------------------------------------------\n",
            "\n",
            "Classification Report: \n",
            "               precision    recall  f1-score   support\n",
            "\n",
            "           0       0.28      0.10      0.15       146\n",
            "           1       0.26      0.03      0.05       168\n",
            "           2       0.24      0.69      0.35       143\n",
            "           3       0.32      0.24      0.28       143\n",
            "\n",
            "    accuracy                           0.26       600\n",
            "   macro avg       0.27      0.27      0.21       600\n",
            "weighted avg       0.27      0.26      0.20       600\n",
            "\n",
            "\n",
            "-----------------------------------------------------\n",
            "\n",
            "Fitting 10 folds for each of 32 candidates, totalling 320 fits\n",
            "Machine Learning Models: KNeighborsClassifier\n",
            "Cross Validation Scores: 0.33285714285714285\n",
            "Best Parameters: KNeighborsClassifier(metric='manhattan', n_neighbors=80)\n",
            "\n",
            "-----------------------------------------------------\n",
            "\n",
            "Train Accuracy of Classifier:  0.3578571428571429\n",
            "Test Accuracy of Classifier:  0.31\n",
            "\n",
            "-----------------------------------------------------\n",
            "\n",
            "Classification Report: \n",
            "               precision    recall  f1-score   support\n",
            "\n",
            "           0       0.34      0.51      0.41       146\n",
            "           1       0.33      0.10      0.15       168\n",
            "           2       0.25      0.20      0.22       143\n",
            "           3       0.31      0.47      0.37       143\n",
            "\n",
            "    accuracy                           0.31       600\n",
            "   macro avg       0.31      0.32      0.29       600\n",
            "weighted avg       0.31      0.31      0.28       600\n",
            "\n",
            "\n",
            "-----------------------------------------------------\n",
            "\n",
            "Fitting 10 folds for each of 100 candidates, totalling 1000 fits\n",
            "Machine Learning Models: NaiveBayes\n",
            "Cross Validation Scores: 0.8178571428571428\n",
            "Best Parameters: GaussianNB(var_smoothing=8.111308307896872e-07)\n",
            "\n",
            "-----------------------------------------------------\n",
            "\n",
            "Train Accuracy of Classifier:  0.8335714285714285\n",
            "Test Accuracy of Classifier:  0.83\n",
            "\n",
            "-----------------------------------------------------\n",
            "\n",
            "Classification Report: \n",
            "               precision    recall  f1-score   support\n",
            "\n",
            "           0       0.93      0.94      0.93       146\n",
            "           1       0.76      0.73      0.75       168\n",
            "           2       0.70      0.75      0.73       143\n",
            "           3       0.94      0.92      0.93       143\n",
            "\n",
            "    accuracy                           0.83       600\n",
            "   macro avg       0.83      0.83      0.83       600\n",
            "weighted avg       0.83      0.83      0.83       600\n",
            "\n",
            "\n",
            "-----------------------------------------------------\n",
            "\n"
          ]
        }
      ]
    },
    {
      "cell_type": "code",
      "source": [
        "#K-Folds cross-validator\n",
        "\n",
        "#Provides train/test indices to split data in train/test sets.Split dataset into k consecutive folds (without shuffling by default).\n",
        "kfold = model_selection.KFold(n_splits=20)\n",
        "\n",
        "# preparing models\n",
        "models = []\n",
        "models.append(('Model 1 Logistic Regression     :', LogisticRegression(C=2, penalty='l1', random_state=128, solver='liblinear')))\n",
        "models.append(('Model 2 Support Vector Machine  :',SVC(C=10, gamma=0.001, probability=True, random_state=128)))\n",
        "models.append(('Model 3 Random Forest Classifier :',RandomForestClassifier(max_depth=20, max_features=0.6, n_estimators=150, random_state=0)))\n",
        "models.append(('Model 4 Decision Tree Classifier:',DecisionTreeClassifier(max_depth=11, min_samples_split=11, random_state=128)))\n",
        "models.append(('Model 5 Naives Bayes Classifier :',GaussianNB(var_smoothing=8.111308307896872e-07)))\n",
        "models.append(('Model 6 KNN classifier      :',KNeighborsClassifier(metric='manhattan', n_neighbors=80)))\n",
        "\n",
        "# evaluating each model\n",
        "results = []\n",
        "names = []\n",
        "scoring = 'accuracy'\n",
        "for name, model in models:\n",
        "    kfold = model_selection.KFold(n_splits=20)\n",
        "    cv_results = model_selection.cross_val_score(model, X_train, y_train, cv=kfold, scoring=scoring)\n",
        "    results.append(cv_results)\n",
        "    names.append(name)\n",
        "    msg = \"%s %f (%f)\" % (name, cv_results.mean(), cv_results.std())\n",
        "    print(msg)\n",
        "\n",
        "# barplot algorithm comparison\n",
        "fig = plt.figure(figsize=(20,10))\n",
        "fig.suptitle('Comparision of sklearn classification algorithms')\n",
        "ax = fig.add_subplot(111)\n",
        "sns.barplot(data=results)\n",
        "ax.set_xticklabels(names)\n",
        "plt.show()"
      ],
      "metadata": {
        "id": "c1Qr0jqTZy72",
        "colab": {
          "base_uri": "https://localhost:8080/",
          "height": 859
        },
        "outputId": "da663744-f1e5-48f1-d784-712d89eea927"
      },
      "execution_count": null,
      "outputs": [
        {
          "output_type": "stream",
          "name": "stdout",
          "text": [
            "Model 1 Logistic Regression     : 0.852857 (0.058745)\n",
            "Model 2 Support Vector Machine  : 0.246429 (0.034663)\n",
            "Model 3 Random Forest Classifier : 0.900714 (0.040526)\n",
            "Model 4 Decision Tree Classifier: 0.839286 (0.037491)\n",
            "Model 5 Naives Bayes Classifier : 0.812857 (0.055678)\n",
            "Model 6 KNN classifier      : 0.324286 (0.054604)\n"
          ]
        },
        {
          "output_type": "display_data",
          "data": {
            "text/plain": [
              "<Figure size 2000x1000 with 1 Axes>"
            ],
            "image/png": "[encoded data removed]"
          },
          "metadata": {}
        }
      ]
    },
    {
      "cell_type": "markdown",
      "source": [
        "1. **By comparing all the models, Random Forest Classifier gives almost 90%\n",
        "\n",
        "1.   List item\n",
        "2.   List item\n",
        "\n",
        "accuracy both in train and test. we can see that the values of precision(nearly 0.9), recall(nearly 0.9) and f1 score(nearly 0.9) for Random Forest Classifier are much better than the remaining models.**\n",
        "\n",
        "\n",
        "2. **So, we can conclude that Random Forest Classifier will give us the best predictions.**"
      ],
      "metadata": {
        "id": "BZ7gy74rZhCQ"
      }
    }
  ]
}